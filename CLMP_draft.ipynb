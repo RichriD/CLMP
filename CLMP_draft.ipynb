{
 "cells": [
  {
   "metadata": {
    "ExecuteTime": {
     "end_time": "2025-03-13T07:08:26.924195Z",
     "start_time": "2025-03-13T07:08:25.029468Z"
    }
   },
   "cell_type": "code",
   "source": [
    "# import multiprocessing\n",
    "from pyomo.environ import *\n",
    "from pyomo.opt import SolverFactory\n",
    "import math\n",
    "# import cmath\n",
    "import numpy as np\n",
    "# from numpy import r_, c_, ix_, zeros, pi, ones, exp, argmax\n",
    "\n",
    "import pandapower as pp\n",
    "# from pandapower.pypower.makeYbus import makeYbus\n",
    "\n",
    "from pandapower.pypower.makeBdc import makeBdc\n",
    "\n",
    "# from pyomo.contrib.pynumero.interfaces.pyomo_nlp import PyomoNLP\n",
    "# from pyomo.util.infeasible import log_infeasible_constraints\n",
    "# import logging\n",
    "from pandapower.pypower.idx_gen import PG, GEN_BUS, PMAX, PMIN\n",
    "# from pandapower.pypower.idx_cost import NCOST, COST\n",
    "from pandapower.pypower.idx_brch import PF, PT, QF, QT, RATE_A, F_BUS, T_BUS\n",
    "from pandapower.pypower.idx_bus import PD"
   ],
   "id": "a21b21e5fa464b98",
   "outputs": [],
   "execution_count": 1
  },
  {
   "metadata": {
    "ExecuteTime": {
     "end_time": "2025-03-13T07:08:26.927608Z",
     "start_time": "2025-03-13T07:08:26.925205Z"
    }
   },
   "cell_type": "code",
   "source": "path = 'C:\\\\Users\\\\RichriD\\\\Downloads\\\\Compressed\\\\Ipopt-3.14.17-win64-msvs2022-md\\\\bin\\\\ipopt.exe'",
   "id": "c5e75ad2319d58e7",
   "outputs": [],
   "execution_count": 2
  },
  {
   "metadata": {},
   "cell_type": "markdown",
   "source": "# 导入参数",
   "id": "e4048dd9b02c9c94"
  },
  {
   "metadata": {
    "ExecuteTime": {
     "end_time": "2025-03-13T07:08:28.584307Z",
     "start_time": "2025-03-13T07:08:26.927608Z"
    }
   },
   "cell_type": "code",
   "source": [
    "# get the structured data from pypower\n",
    "net = pp.networks.case9()\n",
    "pp.runpp(net)\n",
    "ppc = pp.converter.to_ppc(net)\n",
    "\n",
    "baseMVA, bus, gen, branch = ppc[\"baseMVA\"], ppc[\"bus\"], ppc[\"gen\"], ppc[\"branch\"]\n",
    "\n",
    "Bbus, _, _, _, _ = makeBdc(bus, branch)\n",
    "B = Bbus.todok()\n",
    "B = dict(B.items())\n",
    "\n",
    "# 获取 from_bus 和 to_bus，直接转换为整数数组\n",
    "from_bus = branch[:, 0].astype(int)\n",
    "to_bus = branch[:, 1].astype(int)\n",
    "\n",
    "# 直接使用 zip() 组合为 (from_bus, to_bus) 形式，并转换为列表\n",
    "line_list = list(zip(from_bus, to_bus))\n",
    "\n",
    "# generate bus-gen_matrix for parameters initializing\n",
    "row_bus, column_bus = bus.shape\n",
    "row_gen, column_gen = gen.shape\n",
    "\n",
    "pg_max_list = np.zeros(row_bus)\n",
    "pg_min_list = np.zeros(row_bus)\n",
    "pg_list = np.zeros(row_bus)\n",
    "\n",
    "# 获取所有发电机所在的节点索引\n",
    "gen_bus = gen[:, GEN_BUS].astype(int)\n",
    "\n",
    "pg_max_list[gen_bus] = gen[:, PMAX] / baseMVA\n",
    "pg_min_list[gen_bus] = gen[:, PMIN] / baseMVA\n",
    "pg_list[gen_bus] = gen[:, PG] / baseMVA\n",
    "\n",
    "type_list = bus[:,1]\n",
    "\n",
    "# 获取发电机成本矩阵\n",
    "gencost_mtrx = np.array(ppc['gencost'])  # 确保是 NumPy 数组\n",
    "row_cost, column_cost = gencost_mtrx.shape  # 获取形状\n",
    "\n",
    "# 初始化 bus-gen 成本矩阵, 一般都是包含常数项的2次函数\n",
    "bus_gen_mtrx = np.zeros((row_bus, 3))\n",
    "\n",
    "bus_gen_mtrx[gen_bus, :] = gencost_mtrx[:, -3:]\n",
    "# transefer the matrix to dic\n",
    "cost_dic = {(i, j): value \n",
    "            for i, row in enumerate(bus_gen_mtrx) \n",
    "            for j, value in enumerate(row)}\n",
    "\n",
    "# 定义发电机的碳排放强度\n",
    "ei = np.zeros(row_bus) * 0.3\n",
    "ei[gen_bus] = [0.3, 0.5, 0.8]\n",
    "\n",
    "# 获取支路输电容量限制\n",
    "PLMAX = branch[:, RATE_A] / baseMVA\n",
    "\n",
    "# 默认设置中最大负荷为 1.25 pu, 将排放值限制在暂时这么设置\n",
    "Emis_cap = np.ones(row_bus) * 0.8"
   ],
   "id": "b7d35e0e48127fc4",
   "outputs": [],
   "execution_count": 3
  },
  {
   "metadata": {
    "ExecuteTime": {
     "end_time": "2025-03-13T07:08:28.587325Z",
     "start_time": "2025-03-13T07:08:28.584307Z"
    }
   },
   "cell_type": "code",
   "source": "# bus[6, PD] += 1",
   "id": "7d9190d4c24229",
   "outputs": [],
   "execution_count": 4
  },
  {
   "metadata": {
    "ExecuteTime": {
     "end_time": "2025-03-13T07:08:28.595519Z",
     "start_time": "2025-03-13T07:08:28.588328Z"
    }
   },
   "cell_type": "code",
   "source": "model = ConcreteModel()",
   "id": "75992fb6de5af67f",
   "outputs": [],
   "execution_count": 5
  },
  {
   "metadata": {},
   "cell_type": "markdown",
   "source": "## 定义 Set",
   "id": "207537837174a3db"
  },
  {
   "metadata": {
    "ExecuteTime": {
     "end_time": "2025-03-13T07:08:28.605477Z",
     "start_time": "2025-03-13T07:08:28.596023Z"
    }
   },
   "cell_type": "code",
   "source": [
    "# Define the sets\n",
    "model.buses = Set(initialize = bus[:,0].astype(int))\n",
    "model.lines = Set(initialize = range(len(line_list)))\n",
    "model.cost_dims = Set(initialize = range(0, 3))"
   ],
   "id": "4a12f6b9c231c963",
   "outputs": [],
   "execution_count": 6
  },
  {
   "metadata": {},
   "cell_type": "markdown",
   "source": "## 定义 Param",
   "id": "69d8176163a660fd"
  },
  {
   "metadata": {
    "ExecuteTime": {
     "end_time": "2025-03-13T07:08:28.615323Z",
     "start_time": "2025-03-13T07:08:28.606488Z"
    }
   },
   "cell_type": "code",
   "source": [
    "# Define the parameters (change the bus-> dict)\n",
    "model.PD = Param(model.buses, initialize = bus[:, PD]/baseMVA, default = 0.0) # default meaning?\n",
    "\n",
    "model.PG_MAX = Param(model.buses, initialize = pg_max_list, default = 0.0)\n",
    "model.PG_MIN = Param(model.buses, initialize = pg_min_list, default = 0.0)\n",
    "\n",
    "model.B = Param(model.buses*model.buses, initialize = B, default = 0.0)\n",
    "\n",
    "model.C = Param(model.buses*model.cost_dims, initialize = cost_dic, default = 0.0)\n",
    "\n",
    "model.PL_MAX = Param(model.lines, initialize = PLMAX, default = 0.0)\n",
    "\n",
    "# emissions cap\n",
    "model.Emis_cap = Param(model.buses, initialize = Emis_cap, default = 0.0)\n",
    "\n",
    "# 这种方法目前只针对 IEEE 9-BUS 生效, 因为所有发电机都是接在一个单项连通电网节点中, 可以保证该节点为发电机占优\n",
    "model.w_g = Param(model.buses, initialize = ei, default = 0.0)"
   ],
   "id": "8ebc30867bc8119f",
   "outputs": [],
   "execution_count": 7
  },
  {
   "metadata": {
    "ExecuteTime": {
     "end_time": "2025-03-13T07:08:28.622754Z",
     "start_time": "2025-03-13T07:08:28.615323Z"
    }
   },
   "cell_type": "code",
   "source": "# model.PD.display()",
   "id": "6351533736aa0afb",
   "outputs": [],
   "execution_count": 8
  },
  {
   "metadata": {
    "ExecuteTime": {
     "end_time": "2025-03-13T07:08:28.628678Z",
     "start_time": "2025-03-13T07:08:28.622754Z"
    }
   },
   "cell_type": "code",
   "source": "# model.PD[6] += 0.01",
   "id": "8bae8b9fb55b417d",
   "outputs": [],
   "execution_count": 9
  },
  {
   "metadata": {
    "ExecuteTime": {
     "end_time": "2025-03-13T07:08:28.634590Z",
     "start_time": "2025-03-13T07:08:28.628678Z"
    }
   },
   "cell_type": "code",
   "source": "# model.PD.display()",
   "id": "34153ba6b41b2cd5",
   "outputs": [],
   "execution_count": 10
  },
  {
   "metadata": {},
   "cell_type": "markdown",
   "source": "## 定义 Var",
   "id": "41b8a58bb6f19ab1"
  },
  {
   "metadata": {
    "ExecuteTime": {
     "end_time": "2025-03-13T07:08:28.641197Z",
     "start_time": "2025-03-13T07:08:28.634590Z"
    }
   },
   "cell_type": "code",
   "source": [
    "# Define the variables\n",
    "model.PG = Var(model.buses, domain = Reals)\n",
    "model.theta = Var(model.buses, initialize=0, bounds=(-math.pi/8, math.pi/8))\n",
    "\n",
    "# node cei\n",
    "model.w = Var(model.buses, initialize=ei, bounds=(0, 0.8))"
   ],
   "id": "684c972dfc38e117",
   "outputs": [],
   "execution_count": 11
  },
  {
   "metadata": {
    "ExecuteTime": {
     "end_time": "2025-03-13T07:08:28.647872Z",
     "start_time": "2025-03-13T07:08:28.641197Z"
    }
   },
   "cell_type": "code",
   "source": [
    "# 关于表示潮流流向的变量\n",
    "model.p_out = Var(model.buses, model.buses, initialize=0, domain=NonNegativeReals)  # i -> j 在 i 处的量测\n",
    "model.p_in = Var(model.buses, model.buses, initialize=0, domain=NonNegativeReals)  # j -> i 在 i 处的量测"
   ],
   "id": "664de65e4e73e100",
   "outputs": [],
   "execution_count": 12
  },
  {
   "metadata": {
    "ExecuteTime": {
     "end_time": "2025-03-13T07:08:28.655035Z",
     "start_time": "2025-03-13T07:08:28.648390Z"
    }
   },
   "cell_type": "code",
   "source": [
    "for i in model.buses:\n",
    "    model.p_out[i, i].fix(0)\n",
    "    model.p_in[i, i].fix(0)"
   ],
   "id": "fd9c4bbdf48fde7c",
   "outputs": [],
   "execution_count": 13
  },
  {
   "metadata": {
    "ExecuteTime": {
     "end_time": "2025-03-13T07:08:28.661191Z",
     "start_time": "2025-03-13T07:08:28.656543Z"
    }
   },
   "cell_type": "code",
   "source": [
    "for i in model.buses:\n",
    "    for j in set(np.where(Bbus.toarray()[i, :] == 0)[0]):\n",
    "        model.p_out[i, j].fix(0)\n",
    "        model.p_in[i, j].fix(0)"
   ],
   "id": "94ebabcd8b1b3838",
   "outputs": [],
   "execution_count": 14
  },
  {
   "metadata": {
    "ExecuteTime": {
     "end_time": "2025-03-13T07:08:28.666807Z",
     "start_time": "2025-03-13T07:08:28.661191Z"
    }
   },
   "cell_type": "code",
   "source": "# Bbus.toarray()",
   "id": "79853f48c59a721b",
   "outputs": [],
   "execution_count": 15
  },
  {
   "metadata": {
    "ExecuteTime": {
     "end_time": "2025-03-13T07:08:28.674799Z",
     "start_time": "2025-03-13T07:08:28.666807Z"
    }
   },
   "cell_type": "code",
   "source": "# set(np.where(Bbus.toarray()[0, :] == 0)[0])",
   "id": "2f5218cc299ffef",
   "outputs": [],
   "execution_count": 16
  },
  {
   "metadata": {
    "ExecuteTime": {
     "end_time": "2025-03-13T07:08:28.683257Z",
     "start_time": "2025-03-13T07:08:28.675403Z"
    }
   },
   "cell_type": "code",
   "source": "# for i in np.where(Bbus.toarray()[0, :] == 0):",
   "id": "3030824334dd5d29",
   "outputs": [],
   "execution_count": 17
  },
  {
   "metadata": {
    "ExecuteTime": {
     "end_time": "2025-03-13T07:08:28.688968Z",
     "start_time": "2025-03-13T07:08:28.683769Z"
    }
   },
   "cell_type": "code",
   "source": [
    "# 根据节点类型定义发电机限额, 以及固定平衡节点的电压相角\n",
    "for i, bus_type in enumerate(type_list):\n",
    "    if bus_type in {2, 3}:\n",
    "        model.PG[i].lb = pg_min_list[i]\n",
    "        model.PG[i].ub = pg_max_list[i]\n",
    "        model.w[i].fix(ei[i])\n",
    "\n",
    "        if type_list[i] == 3:\n",
    "            model.theta[i].fix(0)\n",
    "\n",
    "    else:\n",
    "        model.PG[i].fix(0)"
   ],
   "id": "565c6b7487355d44",
   "outputs": [],
   "execution_count": 18
  },
  {
   "metadata": {},
   "cell_type": "markdown",
   "source": "## 定义 Constrain",
   "id": "77779ed3cc332784"
  },
  {
   "metadata": {
    "ExecuteTime": {
     "end_time": "2025-03-13T07:08:28.695960Z",
     "start_time": "2025-03-13T07:08:28.688968Z"
    }
   },
   "cell_type": "code",
   "source": [
    "# 双向潮流变量的自然约束\n",
    "def branch_flow_direction(model, i, j):\n",
    "    return model.p_out[i, j] * model.p_in[i, j] <= 0\n",
    "# pij_i * pji_i == 0, 松弛为  pij_i * pji_i <= 0\n",
    "model.branch_flow_direction = Constraint(model.buses, model.buses, \n",
    "                                         rule = branch_flow_direction)"
   ],
   "id": "74056662d3881466",
   "outputs": [],
   "execution_count": 19
  },
  {
   "metadata": {
    "ExecuteTime": {
     "end_time": "2025-03-13T07:08:28.704168Z",
     "start_time": "2025-03-13T07:08:28.696494Z"
    }
   },
   "cell_type": "code",
   "source": [
    "# 双向潮流等效方法, 以及支路潮流输电限额\n",
    "# pij_i - pji_i == pf_ij == 1/xij * (theta_i - theta_j)\n",
    "# pij_j - pji_j == -1/xij * (theta_i - theta_j)\n",
    "# 由于网络是无损的,其实就等效于 pij_i == pij_j\n",
    "model.forward_branch_flow = ConstraintList()\n",
    "model.backward_branch_flow = ConstraintList()\n",
    "model.power_branch_flow = ConstraintList()  # --> \\mu\n",
    "for l in model.lines:\n",
    "    fbus = branch[l, F_BUS]  # i\n",
    "    tbus = branch[l, T_BUS]  # j\n",
    "    B_ft = -model.B[fbus, tbus]\n",
    "    \n",
    "    pf_ij = B_ft * (model.theta[fbus] - model.theta[tbus])\n",
    "    \n",
    "    model.power_branch_flow.add(expr = abs(pf_ij) <= model.PL_MAX[l])\n",
    "    \n",
    "    model.forward_branch_flow.add(\n",
    "        expr = model.p_out[fbus, tbus] - model.p_in[fbus, tbus] == pf_ij\n",
    "    )\n",
    "    model.backward_branch_flow.add(\n",
    "        expr = model.p_in[tbus, fbus] - model.p_out[tbus, fbus] == pf_ij\n",
    "    )"
   ],
   "id": "388a2ee8d80f8f7",
   "outputs": [],
   "execution_count": 20
  },
  {
   "metadata": {
    "ExecuteTime": {
     "end_time": "2025-03-13T07:08:28.711507Z",
     "start_time": "2025-03-13T07:08:28.704695Z"
    }
   },
   "cell_type": "code",
   "source": [
    "# Define the power balance constraints\n",
    "model.power_balance_constraints = ConstraintList()\n",
    "# 功率平衡 (DCPF)\n",
    "for i in model.buses:\n",
    "    # real_power_out = model.p_out[i] - model.p_in[i]\n",
    "    real_power_out = sum(\n",
    "        model.p_out[i, j] - model.p_in[i, j]\n",
    "        for j in model.buses\n",
    "    )\n",
    "    \n",
    "    if type_list[i] in {2, 3}:\n",
    "        model.power_balance_constraints.add(expr = model.PG[i] - model.PD[i] == real_power_out)\n",
    "    else:\n",
    "        model.power_balance_constraints.add(expr = - model.PD[i] == real_power_out)"
   ],
   "id": "c3d4dd713c84eeb3",
   "outputs": [],
   "execution_count": 21
  },
  {
   "metadata": {
    "ExecuteTime": {
     "end_time": "2025-03-13T07:08:28.718889Z",
     "start_time": "2025-03-13T07:08:28.712512Z"
    }
   },
   "cell_type": "code",
   "source": [
    "# power supply-demand\n",
    "model.power_supply_demand_balance = Constraint(expr = sum(model.PG[i] - model.PD[i] for i in model.buses) == 0)"
   ],
   "id": "eca938845c10f87a",
   "outputs": [],
   "execution_count": 22
  },
  {
   "metadata": {
    "ExecuteTime": {
     "end_time": "2025-03-13T07:08:28.725386Z",
     "start_time": "2025-03-13T07:08:28.719895Z"
    }
   },
   "cell_type": "code",
   "source": [
    "# 发电功率约束\n",
    "model.generator_limits = ConstraintList()\n",
    "for i in model.buses:\n",
    "    if type_list[i] in {2, 3}:\n",
    "        model.generator_limits.add(expr = model.PG_MIN[i] - model.PG[i] <= 0)\n",
    "        model.generator_limits.add(expr = model.PG[i] - model.PG_MAX[i] <= 0)"
   ],
   "id": "ee0df3e58b2a2ed7",
   "outputs": [],
   "execution_count": 23
  },
  {
   "metadata": {
    "ExecuteTime": {
     "end_time": "2025-03-13T07:08:28.733948Z",
     "start_time": "2025-03-13T07:08:28.725386Z"
    }
   },
   "cell_type": "code",
   "source": [
    "# 碳流方程\n",
    "model.carbon_emission_flow = ConstraintList()\n",
    "for i in model.buses:\n",
    "    p_inj = model.PG[i] + sum(model.p_in[i, j] for j in model.buses)\n",
    "    emis_inj = model.w_g[i] * model.PG[i] + sum(model.p_in[i, j] * model.w[j] for j in model.buses)\n",
    "    model.carbon_emission_flow.add(expr = p_inj * model.w[i] == emis_inj)"
   ],
   "id": "169540980507d6e1",
   "outputs": [],
   "execution_count": 24
  },
  {
   "metadata": {
    "ExecuteTime": {
     "end_time": "2025-03-13T07:08:28.741146Z",
     "start_time": "2025-03-13T07:08:28.733948Z"
    }
   },
   "cell_type": "code",
   "source": [
    "def carbon_cap(model, i):\n",
    "    return model.w[i] * model.PD[i] <= model.Emis_cap[i]\n",
    "model.carbon_cap = Constraint(model.buses, rule=carbon_cap)"
   ],
   "id": "cd6dae1c35e4cc3f",
   "outputs": [],
   "execution_count": 25
  },
  {
   "metadata": {},
   "cell_type": "markdown",
   "source": "# 定义目标函数",
   "id": "adc8d3b53be46308"
  },
  {
   "metadata": {
    "ExecuteTime": {
     "end_time": "2025-03-13T07:08:28.747303Z",
     "start_time": "2025-03-13T07:08:28.741543Z"
    }
   },
   "cell_type": "code",
   "source": [
    "model.obj_cost = Objective(\n",
    "    expr = sum(\n",
    "        (model.PG[i] * baseMVA) ** 2 * model.C[i,0]+ (model.PG[i] * baseMVA) * model.C[i,1] + model.C[i,2]\n",
    "        for i in model.buses\n",
    "    ), \n",
    "    sense = minimize\n",
    ")"
   ],
   "id": "21a597db1dfebc33",
   "outputs": [],
   "execution_count": 26
  },
  {
   "metadata": {
    "ExecuteTime": {
     "end_time": "2025-03-13T07:08:28.754850Z",
     "start_time": "2025-03-13T07:08:28.747303Z"
    }
   },
   "cell_type": "code",
   "source": "model.dual = Suffix(direction=Suffix.IMPORT)",
   "id": "b657a899d3f0fe7d",
   "outputs": [],
   "execution_count": 27
  },
  {
   "metadata": {
    "ExecuteTime": {
     "end_time": "2025-03-13T07:08:28.756860Z",
     "start_time": "2025-03-13T07:08:28.754850Z"
    }
   },
   "cell_type": "code",
   "source": "",
   "id": "4e4af835004713ce",
   "outputs": [],
   "execution_count": 27
  },
  {
   "metadata": {
    "ExecuteTime": {
     "end_time": "2025-03-13T07:08:28.898868Z",
     "start_time": "2025-03-13T07:08:28.757366Z"
    }
   },
   "cell_type": "code",
   "source": [
    "solver = SolverFactory('ipopt', executable=path)\n",
    "solver.options['tol'] = 1e-6  # 允许更大的误差\n",
    "solver.options['acceptable_tol'] = 1e-5 \n",
    "results = solver.solve(model, tee = True)"
   ],
   "id": "8b460348b5a7ef18",
   "outputs": [
    {
     "name": "stdout",
     "output_type": "stream",
     "text": [
      "Ipopt 3.14.17: tol=1e-06\n",
      "acceptable_tol=1e-05\n",
      "\n",
      "\n",
      "******************************************************************************\n",
      "This program contains Ipopt, a library for large-scale nonlinear optimization.\n",
      " Ipopt is released as open source code under the Eclipse Public License (EPL).\n",
      "         For more information visit https://github.com/coin-or/Ipopt\n",
      "******************************************************************************\n",
      "\n",
      "This is Ipopt version 3.14.17, running with linear solver MUMPS 5.7.3.\n",
      "\n",
      "Number of nonzeros in equality constraint Jacobian...:      154\n",
      "Number of nonzeros in inequality constraint Jacobian.:       62\n",
      "Number of nonzeros in Lagrangian Hessian.............:       67\n",
      "\n",
      "Total number of variables............................:       53\n",
      "                     variables with only lower bounds:       36\n",
      "                variables with lower and upper bounds:       17\n",
      "                     variables with only upper bounds:        0\n",
      "Total number of equality constraints.................:       37\n",
      "Total number of inequality constraints...............:      105\n",
      "        inequality constraints with only lower bounds:        0\n",
      "   inequality constraints with lower and upper bounds:        0\n",
      "        inequality constraints with only upper bounds:      105\n",
      "\n",
      "iter    objective    inf_pr   inf_du lg(mu)  ||d||  lg(rg) alpha_du alpha_pr  ls\n",
      "   0  1.2026175e+03 2.82e+00 1.03e+02  -1.0 0.00e+00    -  0.00e+00 0.00e+00   0\n",
      "   1  1.2138379e+03 2.80e+00 1.02e+02  -1.0 1.17e+00    -  9.31e-03 8.46e-03h  1\n",
      "   2  1.2154565e+03 2.79e+00 1.02e+02  -1.0 1.63e+00    -  1.50e-02 9.82e-04h  1\n",
      "   3  1.2178728e+03 2.79e+00 1.02e+02  -1.0 5.83e+01    -  1.69e-04 9.64e-04h  1\n",
      "   4  1.2183322e+03 2.79e+00 1.02e+02  -1.0 1.01e+02    -  3.28e-04 1.11e-04h  1\n",
      "   5  1.2210934e+03 2.79e+00 1.02e+02  -1.0 1.91e+01    -  2.09e-03 1.23e-03h  1\n",
      "   6  1.2293950e+03 2.78e+00 1.02e+02  -1.0 1.21e+01    -  1.83e-04 3.51e-03f  1\n",
      "   7  1.2300986e+03 2.78e+00 1.02e+02  -1.0 4.17e+00  -4.0 9.83e-03 3.03e-04h  1\n",
      "   8  1.2567941e+03 2.75e+00 1.01e+02  -1.0 5.57e+00    -  8.62e-03 1.08e-02h  1\n",
      "   9  1.2569061e+03 2.75e+00 1.01e+02  -1.0 1.65e+01    -  1.48e-03 4.70e-05h  1\n",
      "iter    objective    inf_pr   inf_du lg(mu)  ||d||  lg(rg) alpha_du alpha_pr  ls\n",
      "  10  1.2743716e+03 2.73e+00 1.00e+02  -1.0 4.06e+00  -3.6 8.82e-03 6.36e-03h  1\n",
      "  11  1.3005284e+03 2.70e+00 9.91e+01  -1.0 4.08e+00    -  5.73e-03 9.07e-03h  1\n",
      "  12  1.3073056e+03 2.70e+00 9.87e+01  -1.0 1.17e+01   1.4 1.64e-03 2.49e-03h  1\n",
      "  13  1.3315694e+03 2.68e+00 9.80e+01  -1.0 5.64e+00    -  2.22e-03 7.51e-03h  1\n",
      "  14  1.3362372e+03 2.67e+00 9.78e+01  -1.0 1.14e+01    -  3.99e-03 1.43e-03h  1\n",
      "  15  1.3464356e+03 2.66e+00 9.69e+01  -1.0 3.98e+00   1.8 3.22e-03 3.25e-03h  1\n",
      "  16  1.3871417e+03 2.63e+00 9.50e+01  -1.0 5.18e+00   1.3 2.17e-02 1.14e-02h  1\n",
      "  17  1.3913562e+03 2.63e+00 9.47e+01  -1.0 5.24e+00   1.7 2.86e-03 1.21e-03h  1\n",
      "  18  1.4030402e+03 2.62e+00 3.26e+02  -1.0 5.88e+00   2.2 1.27e-02 3.28e-03h  1\n",
      "  19  1.4034999e+03 2.62e+00 2.92e+02  -1.0 6.36e+01   1.7 1.70e-04 2.86e-04h  1\n",
      "iter    objective    inf_pr   inf_du lg(mu)  ||d||  lg(rg) alpha_du alpha_pr  ls\n",
      "  20  1.4074707e+03 2.62e+00 3.54e+02  -1.0 3.99e+01   2.1 3.06e-04 6.60e-04h  1\n",
      "  21  1.4075205e+03 2.62e+00 2.55e+02  -1.0 1.89e+01   1.6 1.27e-03 1.39e-05h  1\n",
      "  22r 1.4075205e+03 2.62e+00 9.99e+02   0.4 0.00e+00    -  0.00e+00 4.04e-07R  5\n",
      "  23r 1.4338748e+03 2.60e+00 9.98e+02   0.4 3.95e+01    -  4.12e-03 1.46e-03f  1\n",
      "  24r 1.8134378e+03 2.35e+00 9.96e+02   0.4 2.12e+02    -  9.40e-04 1.19e-03f  1\n",
      "  25  1.8144226e+03 2.35e+00 2.50e+02  -1.0 2.62e+00    -  3.18e-03 2.26e-04h  1\n",
      "  26  1.8303763e+03 2.34e+00 2.50e+02  -1.0 1.18e+01    -  6.99e-04 3.23e-03h  1\n",
      "  27  1.8768440e+03 2.32e+00 2.47e+02  -1.0 9.16e+00    -  5.37e-03 9.26e-03h  1\n",
      "  28  1.8782367e+03 2.32e+00 2.47e+02  -1.0 3.14e+00    -  4.57e-03 2.93e-04h  1\n",
      "  29  1.8956705e+03 2.30e+00 2.46e+02  -1.0 1.19e+01    -  9.20e-05 6.44e-03h  1\n",
      "iter    objective    inf_pr   inf_du lg(mu)  ||d||  lg(rg) alpha_du alpha_pr  ls\n",
      "  30  1.9263712e+03 2.27e+00 2.43e+02  -1.0 4.51e+00    -  7.40e-03 1.24e-02h  1\n",
      "  31  1.9270243e+03 2.27e+00 2.43e+02  -1.0 2.74e+00    -  1.34e-03 2.92e-04h  1\n",
      "  32  1.9528204e+03 2.23e+00 2.38e+02  -1.0 3.55e+00    -  8.88e-03 1.91e-02h  1\n",
      "  33  1.9533986e+03 2.23e+00 2.38e+02  -1.0 3.32e+00    -  3.42e-03 3.02e-04h  1\n",
      "  34  1.9645281e+03 2.21e+00 2.36e+02  -1.0 3.79e+00    -  1.07e-03 7.69e-03h  1\n",
      "  35  1.9647334e+03 2.21e+00 2.86e+02  -1.0 3.58e+00    -  5.06e-03 1.12e-04h  1\n",
      "  36  2.0149670e+03 2.17e+00 2.46e+02  -1.0 2.65e+01    -  6.65e-04 1.82e-02h  1\n",
      "  37  2.1216507e+03 2.09e+00 3.75e+03  -1.0 7.05e+00    -  2.98e-03 3.74e-02h  1\n",
      "  38  2.2045588e+03 2.03e+00 3.66e+03  -1.0 1.18e+00    -  3.92e-02 2.89e-02h  1\n",
      "  39  2.2667914e+03 1.99e+00 3.59e+03  -1.0 1.13e+00   1.2 4.26e-02 2.17e-02h  1\n",
      "iter    objective    inf_pr   inf_du lg(mu)  ||d||  lg(rg) alpha_du alpha_pr  ls\n",
      "  40  2.3041269e+03 1.95e+00 3.54e+03  -1.0 1.64e+00   0.7 1.06e-01 1.90e-02h  1\n",
      "  41  2.3454386e+03 1.89e+00 3.44e+03  -1.0 2.06e+00    -  1.38e-02 3.06e-02h  1\n",
      "  42  2.3492137e+03 1.88e+00 3.38e+03  -1.0 2.19e+00    -  3.83e-02 3.31e-03h  1\n",
      "  43  2.3549371e+03 1.87e+00 3.37e+03  -1.0 5.27e+00    -  4.14e-03 4.86e-03h  1\n",
      "  44  2.3550686e+03 1.87e+00 3.37e+03  -1.0 1.48e+01    -  2.96e-03 9.46e-04h  1\n",
      "  45  2.3588744e+03 1.86e+00 3.39e+03  -1.0 3.37e+00    -  7.87e-04 6.31e-03f  1\n",
      "  46  2.3792717e+03 1.82e+00 3.31e+03  -1.0 2.49e+00    -  1.09e-02 2.37e-02h  1\n",
      "  47  2.9925042e+03 1.46e+00 3.69e+03  -1.0 1.01e+00    -  9.73e-02 1.95e-01h  1\n",
      "  48  3.0481820e+03 1.40e+00 2.55e+03  -1.0 1.50e+00    -  1.69e-02 4.51e-02h  1\n",
      "  49  3.0914980e+03 1.35e+00 2.90e+03  -1.0 1.10e+00    -  8.12e-02 3.49e-02h  1\n",
      "iter    objective    inf_pr   inf_du lg(mu)  ||d||  lg(rg) alpha_du alpha_pr  ls\n",
      "  50  3.2987250e+03 1.17e+00 2.31e+03  -1.0 1.21e+00    -  1.89e-01 1.29e-01h  1\n",
      "  51  3.5189756e+03 9.64e-01 2.57e+03  -1.0 8.40e-01    -  5.12e-03 1.78e-01h  1\n",
      "  52  3.8450371e+03 7.21e-01 2.07e+03  -1.0 6.66e-01    -  9.23e-02 2.52e-01h  1\n",
      "  53  3.9530804e+03 6.35e-01 2.04e+03  -1.0 6.50e-01    -  1.95e-01 1.20e-01h  1\n",
      "  54  4.3166353e+03 4.28e-01 3.86e+03  -1.0 4.26e-01    -  3.37e-02 3.25e-01h  1\n",
      "  55  4.3196717e+03 4.27e-01 3.51e+03  -1.0 1.67e-01   4.7 1.95e-02 3.41e-03h  1\n",
      "  56  4.3336741e+03 4.20e-01 3.24e+03  -1.0 1.71e-01   5.1 2.15e-02 1.57e-02h  1\n",
      "  57  4.3691090e+03 4.00e-01 3.89e+03  -1.0 3.48e-01    -  1.44e-01 4.84e-02h  1\n",
      "  58  4.4523606e+03 3.49e-01 4.21e+04  -1.0 4.14e-01    -  1.00e+00 1.26e-01h  1\n",
      "  59  4.7729329e+03 1.93e-01 3.46e+04  -1.0 3.86e-01    -  1.00e+00 4.49e-01h  1\n",
      "iter    objective    inf_pr   inf_du lg(mu)  ||d||  lg(rg) alpha_du alpha_pr  ls\n",
      "  60  4.8132398e+03 1.90e-01 3.54e+04  -1.0 1.51e+01    -  1.29e-02 1.34e-02h  1\n",
      "  61  4.9991360e+03 9.44e-02 2.51e+04  -1.0 2.00e-01    -  1.99e-01 5.03e-01h  1\n",
      "  62  5.1044638e+03 4.77e-02 7.26e+03  -1.0 7.37e-02    -  6.19e-01 4.95e-01h  1\n",
      "  63  5.1567453e+03 2.50e-02 1.12e+04  -1.0 4.11e-02    -  1.00e+00 4.75e-01h  1\n",
      "  64  5.1603039e+03 2.35e-02 4.07e+05  -1.0 4.79e-02    -  1.00e+00 6.11e-02h  1\n",
      "  65  5.1686680e+03 2.04e-02 1.52e+06  -1.0 2.50e-01    -  4.60e-01 1.33e-01h  1\n",
      "  66  5.2114544e+03 1.46e-02 4.72e+06  -1.0 4.00e-01    -  1.00e+00 2.84e-01h  1\n",
      "  67  5.2114771e+03 1.46e-02 3.96e+04  -1.0 1.86e-04  10.1 1.00e+00 1.73e-02h  5\n",
      "  68r 5.2114771e+03 1.46e-02 1.00e+03  -1.8 0.00e+00  10.5 0.00e+00 2.74e-07R 21\n",
      "  69r 5.2470443e+03 1.52e-03 1.10e+03  -1.8 8.88e+00    -  2.13e-01 1.63e-03f  1\n",
      "iter    objective    inf_pr   inf_du lg(mu)  ||d||  lg(rg) alpha_du alpha_pr  ls\n",
      "  70  5.2470303e+03 1.52e-03 8.11e+03  -2.5 1.28e-01    -  1.07e-01 2.51e-04h  1\n",
      "  71  5.2289221e+03 9.68e-04 1.70e+03  -2.5 1.41e-01    -  8.24e-01 3.65e-01f  1\n",
      "  72  5.2194183e+03 4.98e-04 5.35e+02  -2.5 9.34e-02    -  9.58e-01 4.86e-01f  1\n",
      "  73  5.2166245e+03 2.14e-04 5.29e+02  -2.5 4.85e-02    -  1.00e+00 5.71e-01f  1\n",
      "  74  5.2161122e+03 8.60e-05 4.01e+02  -2.5 2.08e-02    -  1.00e+00 5.97e-01h  1\n",
      "  75  5.2160692e+03 6.29e-05 4.95e+03  -2.5 8.22e-03    -  1.00e+00 2.69e-01h  1\n",
      "  76  5.2160674e+03 6.18e-05 7.08e+03  -2.5 6.46e-03    -  8.47e-01 1.71e-02h  4\n",
      "  77  5.2160628e+03 5.87e-05 6.94e+03  -2.5 5.94e-03    -  8.40e-01 5.09e-02h  3\n",
      "  78  5.2160490e+03 4.73e-05 1.71e+04  -2.5 5.38e-03    -  1.00e+00 1.94e-01h  1\n",
      "  79  5.2160495e+03 4.28e-05 1.91e+05  -2.5 5.88e-03    -  7.25e-01 9.39e-02h  1\n",
      "iter    objective    inf_pr   inf_du lg(mu)  ||d||  lg(rg) alpha_du alpha_pr  ls\n",
      "  80  5.2161412e+03 4.14e-05 6.94e+06  -2.5 1.67e-01    -  1.00e+00 3.21e-02h  1\n",
      "  81  5.2255741e+03 2.84e-05 6.59e+06  -2.5 2.13e-01    -  1.00e+00 3.15e-01h  1\n",
      "  82  5.2273182e+03 2.75e-05 7.51e+06  -2.5 2.28e-01    -  1.16e-01 3.11e-02h  1\n",
      "  83  5.2273182e+03 2.75e-05 7.67e+05  -2.5 1.37e-07  12.7 1.00e+00 1.00e+00f  1\n",
      "  84  5.2282004e+03 2.71e-05 3.20e+07  -3.8 4.00e-01    -  6.73e-01 1.43e-02h  1\n",
      "  85  5.2400727e+03 2.40e-05 5.12e+07  -3.8 4.57e-01    -  9.32e-01 1.16e-01h  1\n",
      "  86  5.2413588e+03 2.37e-05 9.94e+07  -3.8 4.28e-01    -  6.02e-01 9.86e-03h  1\n",
      "  87  5.2413588e+03 2.37e-05 1.09e+06  -3.8 7.28e-08  13.2 1.00e+00 1.00e+00h  1\n",
      "  88  5.2413599e+03 2.37e-05 1.44e+08  -3.8 2.74e-01    -  3.27e-02 1.19e-05h  5\n",
      "  89  5.2413477e+03 2.37e-05 5.25e+08  -3.8 1.97e-01    -  1.64e-03 2.61e-04f  2\n",
      "iter    objective    inf_pr   inf_du lg(mu)  ||d||  lg(rg) alpha_du alpha_pr  ls\n",
      "  90  5.2413440e+03 2.37e-05 1.17e+09  -3.8 2.17e-01    -  3.78e-04 6.94e-05f  3\n",
      "  91  5.2413382e+03 2.37e-05 2.69e+09  -3.8 2.20e-01    -  3.49e-04 1.07e-04h  2\n",
      "  92  5.2413367e+03 2.37e-05 8.96e+09  -3.8 2.21e-01    -  2.30e-04 2.84e-05h  3\n",
      "  93r 5.2413367e+03 2.37e-05 1.00e+03  -3.8 0.00e+00    -  0.00e+00 3.28e-07R  9\n",
      "  94r 5.2414720e+03 4.31e-06 7.72e+02  -3.8 3.13e-02    -  1.00e+00 9.82e-03f  1\n",
      "  95  5.2414712e+03 4.31e-06 1.06e+05  -3.8 1.15e-01    -  7.88e-01 1.55e-05f  2\n",
      "  96  5.2170342e+03 8.50e-07 1.28e+04  -3.8 1.19e-01    -  8.79e-01 8.05e-01f  1\n",
      "  97  5.2170088e+03 8.39e-07 1.02e+06  -3.8 2.49e-02    -  9.96e-01 1.23e-02f  1\n",
      "  98  5.2170088e+03 8.39e-07 2.51e+04  -3.8 5.03e-09  12.7 1.00e+00 1.00e+00f  1\n",
      "  99  5.2170088e+03 8.35e-07 2.42e+04  -3.8 1.45e-08  12.2 1.00e+00 1.00e+00f  1\n",
      "iter    objective    inf_pr   inf_du lg(mu)  ||d||  lg(rg) alpha_du alpha_pr  ls\n",
      " 100  5.2169335e+03 8.03e-07 7.79e+05  -3.8 2.42e-02    -  1.00e+00 3.76e-02f  1\n",
      " 101  5.2169335e+03 8.01e-07 8.43e+03  -3.8 1.90e-09  12.6 1.00e+00 1.00e+00f  1\n",
      " 102  5.2168962e+03 7.87e-07 2.37e+06  -5.7 2.65e-02    -  9.50e-01 1.76e-02f  1\n",
      " 103  5.2168962e+03 7.74e-07 2.57e+04  -5.7 1.73e-08  12.2 1.00e+00 1.00e+00h  1\n",
      " 104  5.2168963e+03 7.67e-07 3.82e+04  -5.7 9.69e-09  12.6 1.00e+00 1.00e+00h  1\n",
      " 105  5.2168813e+03 7.67e-07 5.07e+05  -5.7 2.26e-01    -  7.63e-03 9.82e-04f  1\n",
      " 106  5.2168705e+03 7.66e-07 2.32e+06  -5.7 3.61e-01    -  6.43e-03 7.27e-04f  1\n",
      " 107  5.2168705e+03 7.63e-07 1.08e+05  -5.7 1.03e-08  13.0 1.00e+00 1.00e+00h  1\n",
      " 108  5.2168705e+03 7.61e-07 1.44e+05  -5.7 5.13e-09  13.4 1.00e+00 1.00e+00h  1\n",
      " 109  5.2168705e+03 7.54e-07 5.35e+05  -5.7 5.74e-08  13.0 1.00e+00 1.00e+00H  1\n",
      "iter    objective    inf_pr   inf_du lg(mu)  ||d||  lg(rg) alpha_du alpha_pr  ls\n",
      " 110  5.2168713e+03 7.54e-07 6.09e+06  -5.7 1.31e-01    -  1.53e-03 8.23e-05h  1\n",
      " 111  5.2168713e+03 7.54e-07 5.67e+05  -5.7 6.19e-08  13.4 1.00e+00 3.12e-02f  6\n",
      " 112r 5.2168713e+03 7.54e-07 1.00e+03  -5.7 0.00e+00    -  0.00e+00 4.59e-07R  5\n",
      " 113r 5.2168912e+03 3.37e-07 8.18e+02  -5.7 1.09e-01    -  1.00e+00 2.74e-03f  1\n",
      " 114  5.2167047e+03 1.68e-07 2.99e+02  -5.7 2.12e-02    -  9.61e-01 1.18e-01f  1\n",
      " 115  5.2160894e+03 8.37e-08 9.09e+01  -5.7 1.94e-02    -  9.80e-01 6.96e-01f  1\n",
      " 116  5.2160505e+03 5.53e-08 1.47e+02  -5.7 5.93e-03    -  1.00e+00 3.82e-01f  1\n",
      " 117  5.2160433e+03 4.69e-08 1.45e+03  -5.7 3.66e-03    -  1.00e+00 1.65e-01f  1\n",
      " 118  5.2160433e+03 4.69e-08 8.27e+03  -5.7 9.95e-10  12.9 1.00e+00 1.00e+00f  1\n",
      " 119  5.2160433e+03 4.69e-08 4.31e+02  -5.7 1.55e-10  12.4 1.00e+00 1.00e+00h  1\n",
      "iter    objective    inf_pr   inf_du lg(mu)  ||d||  lg(rg) alpha_du alpha_pr  ls\n",
      " 120  5.2160409e+03 4.55e-08 1.25e+04  -5.7 3.06e-03    -  1.00e+00 7.26e-02h  1\n",
      " 121  5.2160409e+03 4.54e-08 4.81e+02  -5.7 5.21e-10  12.0 1.00e+00 1.00e+00f  1\n",
      " 122  5.2160409e+03 4.49e-08 6.18e+02  -5.7 2.01e-09  11.5 1.00e+00 1.00e+00h  1\n",
      " 123  5.2160390e+03 4.27e-08 2.73e+04  -5.7 2.83e-03    -  1.00e+00 6.93e-02h  1\n",
      " 124  5.2160387e+03 4.27e-08 1.68e+06  -5.7 2.27e-03    -  1.00e+00 1.82e-02f  1\n",
      " 125  5.2160441e+03 4.25e-08 3.63e+08  -5.7 1.29e-01    -  1.00e+00 4.73e-03h  1\n",
      " 126  5.2160441e+03 4.25e-08 1.07e+04  -5.7 2.04e-10  13.7 1.00e+00 1.00e+00f  1\n",
      " 127  5.2160509e+03 4.23e-08 1.79e+08  -7.0 1.29e-01    -  4.92e-01 4.88e-03h  1\n",
      " 128  5.2168288e+03 3.64e-08 3.09e+08  -7.0 1.28e-01    -  9.57e-01 1.41e-01h  1\n",
      " 129  5.2168561e+03 3.63e-08 4.03e+08  -7.0 1.14e-01    -  1.00e+00 3.21e-03h  1\n",
      "iter    objective    inf_pr   inf_du lg(mu)  ||d||  lg(rg) alpha_du alpha_pr  ls\n",
      " 130  5.2168561e+03 3.63e-08 3.24e+06  -7.0 3.61e-10  16.0 1.00e+00 1.00e+00h  1\n",
      " 131  5.2168568e+03 3.63e-08 2.65e+07  -7.0 2.05e-01    -  3.92e-02 7.18e-05h  1\n",
      " 132  5.2168568e+03 3.63e-08 4.82e+06  -7.0 1.61e-09  15.5 1.00e+00 1.00e+00f  1\n",
      " 133  5.2168568e+03 3.64e-08 5.53e+06  -7.0 6.94e-10  15.9 1.00e+00 1.00e+00h  1\n",
      " 134  5.2168585e+03 3.64e-08 1.67e+07  -7.0 1.69e-01    -  2.80e-02 2.06e-04h  1\n",
      " 135  5.2170210e+03 3.58e-08 2.82e+07  -7.0 2.47e-01    -  3.21e-02 1.64e-02h  1\n",
      " 136  5.2170210e+03 3.58e-08 1.17e+07  -7.0 4.39e-09  15.4 1.00e+00 1.00e+00f  1\n",
      " 137  5.2172037e+03 3.52e-08 4.36e+07  -7.0 2.19e-01    -  7.81e-02 1.74e-02h  1\n",
      " 138  5.2172037e+03 3.52e-08 1.53e+07  -7.0 2.16e-09  15.9 1.00e+00 1.00e+00f  1\n",
      " 139  5.2172037e+03 3.53e-08 3.86e+07  -7.0 2.62e-08  15.4 1.00e+00 5.00e-01h  2\n",
      "iter    objective    inf_pr   inf_du lg(mu)  ||d||  lg(rg) alpha_du alpha_pr  ls\n",
      " 140  5.2172037e+03 3.53e-08 4.62e+07  -7.0 8.54e-09  15.8 1.00e+00 5.00e-01h  2\n",
      " 141  5.2171308e+03 3.65e-08 4.50e+07  -7.0 1.18e-01    -  5.72e-02 2.65e-02f  1\n",
      " 142  5.2171308e+03 3.65e-08 6.69e+07  -7.0 6.72e-07  15.3 1.00e+00 1.60e-02f  2\n",
      " 143  5.2166978e+03 3.63e-08 1.10e+08  -7.0 7.34e-01    -  3.02e-03 6.97e-03f  1\n",
      " 144  5.2166978e+03 3.63e-08 1.29e+08  -7.0 2.89e-09  16.7 1.00e+00 1.00e+00f  1\n",
      " 145  5.2166128e+03 3.34e-08 1.17e+08  -7.0 1.11e-01    -  1.05e-01 8.06e-02f  1\n",
      " 146  5.2166128e+03 3.34e-08 1.05e+08  -7.0 8.52e-10  17.1 8.01e-01 1.00e+00f  1\n",
      " 147  5.2172780e+03 2.84e-08 8.88e+07  -7.0 1.05e-01    -  9.13e-02 1.53e-01h  1\n",
      " 148  5.2178084e+03 2.62e-08 3.27e+08  -7.0 8.78e-02    -  1.00e+00 7.51e-02h  1\n",
      " 149  5.2282325e+03 9.24e-09 1.08e+08  -7.0 7.96e-02    -  1.00e+00 6.91e-01h  1\n",
      "iter    objective    inf_pr   inf_du lg(mu)  ||d||  lg(rg) alpha_du alpha_pr  ls\n",
      " 150  5.2224322e+03 7.40e-10 1.97e+08  -7.0 2.45e-02    -  8.52e-01 1.00e+00f  1\n",
      " 151  5.2184709e+03 6.98e-10 2.24e+08  -7.0 2.25e-01    -  2.18e-01 1.06e-01f  1\n",
      " 152  5.2162208e+03 8.40e-10 1.94e+08  -7.0 9.85e-02    -  8.44e-08 5.00e-01f  2\n",
      " 153  5.2162208e+03 1.31e-09 1.66e+08  -7.0 2.44e-09  16.6 1.44e-01 1.00e+00h  1\n",
      " 154  5.2162208e+03 4.84e-09 9.72e+07  -7.0 7.33e-09  16.1 4.57e-01 1.00e+00f  1\n",
      " 155  5.2160490e+03 2.70e-09 5.43e+07  -7.0 1.60e-02    -  7.31e-01 4.41e-01f  1\n",
      " 156  5.2160317e+03 1.76e-09 3.59e+07  -7.0 5.51e-03    -  1.00e+00 3.48e-01f  1\n",
      " 157  5.2160317e+03 1.56e-08 6.29e+07  -7.0 1.42e-08  15.6 8.10e-03 1.00e+00f  1\n",
      " 158  5.2160317e+03 1.39e-08 5.42e+07  -7.0 2.25e-08  15.2 1.84e-01 1.11e-01h  1\n",
      " 159  5.2160317e+03 1.52e-08 5.87e+07  -7.0 1.61e-07  15.6 1.74e-01 7.81e-03h  8\n",
      "iter    objective    inf_pr   inf_du lg(mu)  ||d||  lg(rg) alpha_du alpha_pr  ls\n",
      " 160  5.2160317e+03 8.39e-09 2.82e+07  -7.0 2.59e-08  15.1 4.90e-02 4.47e-01h  1\n",
      " 161  5.2160317e+03 7.01e-09 1.48e+07  -7.0 2.56e-08  14.6 2.70e-01 1.64e-01f  2\n",
      " 162  5.2160317e+03 4.44e-16 1.90e+07  -7.0 1.16e-08  14.2 9.97e-01 1.00e+00h  1\n",
      " 163  5.2160317e+03 2.49e-14 1.87e+07  -7.0 2.00e-03    -  1.64e-02 1.63e-02f  1\n",
      " 164  5.2160307e+03 1.04e-12 1.65e+07  -7.0 1.35e-03    -  1.01e-02 1.28e-01f  1\n",
      " 165  5.2160307e+03 3.33e-16 1.51e+07  -7.0 1.16e-08  13.7 1.06e-01 1.00e+00f  1\n",
      " 166  5.2160300e+03 1.48e-13 1.39e+07  -7.0 1.64e-03    -  4.11e-01 8.22e-02f  1\n",
      " 167  5.2160300e+03 1.56e-09 1.46e+07  -7.0 1.76e-09  15.9 6.68e-01 1.00e+00f  1\n",
      " 168  5.2160300e+03 8.06e-09 1.95e+07  -7.0 7.06e-09  15.4 9.99e-01 1.00e+00h  1\n",
      " 169  5.2160299e+03 7.94e-09 1.92e+07  -7.0 1.54e-03    -  1.42e-01 1.40e-02h  1\n",
      "iter    objective    inf_pr   inf_du lg(mu)  ||d||  lg(rg) alpha_du alpha_pr  ls\n",
      " 170  5.2160268e+03 2.32e-09 6.94e+06  -7.0 1.50e-03    -  4.94e-01 7.08e-01f  1\n",
      " 171  5.2160268e+03 6.70e-05 6.94e+06  -7.0 1.52e+03    -  2.35e-06 4.41e-08f  1\n",
      " 172  5.2160268e+03 6.70e-05 8.95e+06  -7.0 2.50e-08  15.0 2.37e-01 1.25e-01f  4\n",
      " 173  5.2160268e+03 6.70e-05 1.18e+07  -7.0 4.81e-09  15.4 1.00e+00 1.00e+00h  1\n",
      " 174  5.2160268e+03 6.70e-05 6.38e+07  -7.0 7.79e-08  14.9 3.07e-01 1.00e+00h  1\n",
      " 175  5.2160268e+03 6.70e-05 9.20e+07  -7.0 4.22e-08  15.3 8.43e-01 1.00e+00h  1\n",
      " 176  5.2160268e+03 6.54e-05 8.98e+07  -7.0 6.50e-04    -  2.03e-01 2.42e-02h  1\n",
      " 177  5.2160268e+03 6.54e-05 1.07e+09  -7.0 1.48e-06  14.9 3.53e-04 1.00e+00f  1\n",
      " 178  5.2160268e+03 6.54e-05 1.07e+09  -7.0 3.22e-03    -  1.25e-01 2.13e-04h  1\n",
      " 179  5.2160268e+03 6.54e-05 1.63e+09  -7.0 8.43e-07  15.3 6.91e-01 1.00e+00f  1\n",
      "iter    objective    inf_pr   inf_du lg(mu)  ||d||  lg(rg) alpha_du alpha_pr  ls\n",
      " 180  5.2160268e+03 6.54e-05 1.88e+09  -7.0 3.63e-07  15.7 9.64e-01 1.00e+00h  1\n",
      " 181  5.2160268e+03 6.54e-05 3.06e+09  -7.0 1.77e-06  15.2 1.00e+00 1.00e+00h  1\n",
      " 182  5.2160268e+03 6.54e-05 3.11e+09  -7.0 7.78e-07  15.7 1.00e+00 1.05e-01h  3\n",
      " 183  5.2160268e+03 6.53e-05 3.11e+09  -7.0 9.08e-03    -  6.77e-03 3.52e-04h  2\n",
      " 184r 5.2160268e+03 6.53e-05 9.99e+02  -4.2 0.00e+00  15.2 0.00e+00 3.39e-07R 19\n",
      " 185r 5.2160268e+03 6.76e-06 1.27e+03  -4.2 6.33e-02    -  1.18e-01 9.94e-04f  1\n",
      " 186  5.2160265e+03 5.58e-08 1.04e+01  -7.0 3.97e-04    -  8.69e-01 9.98e-01h  1\n",
      " 187  5.2160265e+03 5.58e-08 5.46e+01  -7.0 7.92e-06    -  4.70e-03 6.06e-04f  2\n",
      " 188  5.2160266e+03 3.39e-10 3.19e-06  -7.0 9.05e-07    -  1.00e+00 1.00e+00h  1\n",
      "\n",
      "Number of Iterations....: 188\n",
      "\n",
      "                                   (scaled)                 (unscaled)\n",
      "Objective...............:   7.2444813992393256e+02    5.2160266074363763e+03\n",
      "Dual infeasibility......:   3.1859428606395568e-06    2.2938788596534719e-05\n",
      "Constraint violation....:   3.3887365136209269e-10    3.3887365136209269e-10\n",
      "Variable bound violation:   7.3007940335299986e-09    7.3007940335299986e-09\n",
      "Complementarity.........:   9.3982906023933874e-08    6.7667692337025626e-07\n",
      "Overall NLP error.......:   9.3982906023933874e-08    2.2938788596534719e-05\n",
      "\n",
      "\n",
      "Number of objective function evaluations             = 307\n",
      "Number of objective gradient evaluations             = 188\n",
      "Number of equality constraint evaluations            = 307\n",
      "Number of inequality constraint evaluations          = 307\n",
      "Number of equality constraint Jacobian evaluations   = 194\n",
      "Number of inequality constraint Jacobian evaluations = 194\n",
      "Number of Lagrangian Hessian evaluations             = 188\n",
      "Total seconds in IPOPT                               = 0.099\n",
      "\n",
      "EXIT: Optimal Solution Found.\n"
     ]
    }
   ],
   "execution_count": 28
  },
  {
   "metadata": {
    "ExecuteTime": {
     "end_time": "2025-03-13T07:08:28.912614Z",
     "start_time": "2025-03-13T07:08:28.898868Z"
    }
   },
   "cell_type": "code",
   "source": "model.pprint()",
   "id": "2ac6890619f85930",
   "outputs": [
    {
     "name": "stdout",
     "output_type": "stream",
     "text": [
      "3 Set Declarations\n",
      "    buses : Size=1, Index=None, Ordered=Insertion\n",
      "        Key  : Dimen : Domain : Size : Members\n",
      "        None :     1 :    Any :    9 : {0, 1, 2, 3, 4, 5, 6, 7, 8}\n",
      "    cost_dims : Size=1, Index=None, Ordered=Insertion\n",
      "        Key  : Dimen : Domain : Size : Members\n",
      "        None :     1 :    Any :    3 : {0, 1, 2}\n",
      "    lines : Size=1, Index=None, Ordered=Insertion\n",
      "        Key  : Dimen : Domain : Size : Members\n",
      "        None :     1 :    Any :    9 : {0, 1, 2, 3, 4, 5, 6, 7, 8}\n",
      "\n",
      "8 Param Declarations\n",
      "    B : Size=81, Index=buses*buses, Domain=Any, Default=0.0, Mutable=False\n",
      "        Key    : Value\n",
      "        (0, 0) :  17.361111111111114\n",
      "        (0, 3) : -17.361111111111114\n",
      "        (1, 1) :                16.0\n",
      "        (1, 7) :               -16.0\n",
      "        (2, 2) :  17.064846416382252\n",
      "        (2, 5) : -17.064846416382252\n",
      "        (3, 0) : -17.361111111111114\n",
      "        (3, 3) :   39.99538221085536\n",
      "        (3, 4) : -10.869565217391305\n",
      "        (3, 8) :  -11.76470588235294\n",
      "        (4, 3) : -10.869565217391305\n",
      "        (4, 4) :  16.751918158567776\n",
      "        (4, 5) :   -5.88235294117647\n",
      "        (5, 2) : -17.064846416382252\n",
      "        (5, 4) :   -5.88235294117647\n",
      "        (5, 5) :   32.86783427819364\n",
      "        (5, 6) :  -9.920634920634921\n",
      "        (6, 5) :  -9.920634920634921\n",
      "        (6, 6) :   23.80952380952381\n",
      "        (6, 7) :  -13.88888888888889\n",
      "        (7, 1) :               -16.0\n",
      "        (7, 6) :  -13.88888888888889\n",
      "        (7, 7) :   36.10006901311249\n",
      "        (7, 8) :  -6.211180124223603\n",
      "        (8, 3) :  -11.76470588235294\n",
      "        (8, 7) :  -6.211180124223603\n",
      "        (8, 8) :  17.975886006576545\n",
      "    C : Size=27, Index=buses*cost_dims, Domain=Any, Default=0.0, Mutable=False\n",
      "        Key    : Value\n",
      "        (0, 0) :   0.11\n",
      "        (0, 1) :    5.0\n",
      "        (0, 2) :  150.0\n",
      "        (1, 0) :  0.085\n",
      "        (1, 1) :    1.2\n",
      "        (1, 2) :  600.0\n",
      "        (2, 0) : 0.1225\n",
      "        (2, 1) :    1.0\n",
      "        (2, 2) :  335.0\n",
      "        (3, 0) :    0.0\n",
      "        (3, 1) :    0.0\n",
      "        (3, 2) :    0.0\n",
      "        (4, 0) :    0.0\n",
      "        (4, 1) :    0.0\n",
      "        (4, 2) :    0.0\n",
      "        (5, 0) :    0.0\n",
      "        (5, 1) :    0.0\n",
      "        (5, 2) :    0.0\n",
      "        (6, 0) :    0.0\n",
      "        (6, 1) :    0.0\n",
      "        (6, 2) :    0.0\n",
      "        (7, 0) :    0.0\n",
      "        (7, 1) :    0.0\n",
      "        (7, 2) :    0.0\n",
      "        (8, 0) :    0.0\n",
      "        (8, 1) :    0.0\n",
      "        (8, 2) :    0.0\n",
      "    Emis_cap : Size=9, Index=buses, Domain=Any, Default=0.0, Mutable=False\n",
      "        Key : Value\n",
      "          0 :   0.8\n",
      "          1 :   0.8\n",
      "          2 :   0.8\n",
      "          3 :   0.8\n",
      "          4 :   0.8\n",
      "          5 :   0.8\n",
      "          6 :   0.8\n",
      "          7 :   0.8\n",
      "          8 :   0.8\n",
      "    PD : Size=9, Index=buses, Domain=Any, Default=0.0, Mutable=False\n",
      "        Key : Value\n",
      "          0 :   0.0\n",
      "          1 :   0.0\n",
      "          2 :   0.0\n",
      "          3 :   0.0\n",
      "          4 :   0.9\n",
      "          5 :   0.0\n",
      "          6 :   1.0\n",
      "          7 :   0.0\n",
      "          8 :  1.25\n",
      "    PG_MAX : Size=9, Index=buses, Domain=Any, Default=0.0, Mutable=False\n",
      "        Key : Value\n",
      "          0 : 2.500000000001\n",
      "          1 : 3.000000000001\n",
      "          2 : 2.700000000001\n",
      "          3 :            0.0\n",
      "          4 :            0.0\n",
      "          5 :            0.0\n",
      "          6 :            0.0\n",
      "          7 :            0.0\n",
      "          8 :            0.0\n",
      "    PG_MIN : Size=9, Index=buses, Domain=Any, Default=0.0, Mutable=False\n",
      "        Key : Value\n",
      "          0 : 0.099999999999\n",
      "          1 : 0.099999999999\n",
      "          2 : 0.099999999999\n",
      "          3 :            0.0\n",
      "          4 :            0.0\n",
      "          5 :            0.0\n",
      "          6 :            0.0\n",
      "          7 :            0.0\n",
      "          8 :            0.0\n",
      "    PL_MAX : Size=9, Index=lines, Domain=Any, Default=0.0, Mutable=False\n",
      "        Key : Value\n",
      "          0 :  2.500000000000015\n",
      "          1 :  2.500000000000015\n",
      "          2 :  1.499999999999985\n",
      "          3 : 3.0000000000000298\n",
      "          4 :  1.499999999999985\n",
      "          5 :  2.500000000000015\n",
      "          6 :  2.500000000000015\n",
      "          7 :  2.500000000000015\n",
      "          8 :  2.500000000000015\n",
      "    w_g : Size=9, Index=buses, Domain=Any, Default=0.0, Mutable=False\n",
      "        Key : Value\n",
      "          0 :   0.3\n",
      "          1 :   0.5\n",
      "          2 :   0.8\n",
      "          3 :   0.0\n",
      "          4 :   0.0\n",
      "          5 :   0.0\n",
      "          6 :   0.0\n",
      "          7 :   0.0\n",
      "          8 :   0.0\n",
      "\n",
      "5 Var Declarations\n",
      "    PG : Size=9, Index=buses\n",
      "        Key : Lower          : Value              : Upper          : Fixed : Stale : Domain\n",
      "          0 : 0.099999999999 : 0.8656449805390622 : 2.500000000001 : False : False :  Reals\n",
      "          1 : 0.099999999999 :  1.343775855252605 : 3.000000000001 : False : False :  Reals\n",
      "          2 : 0.099999999999 :  0.940579164079031 : 2.700000000001 : False : False :  Reals\n",
      "          3 :           None :                  0 :           None :  True :  True :  Reals\n",
      "          4 :           None :                  0 :           None :  True :  True :  Reals\n",
      "          5 :           None :                  0 :           None :  True :  True :  Reals\n",
      "          6 :           None :                  0 :           None :  True :  True :  Reals\n",
      "          7 :           None :                  0 :           None :  True :  True :  Reals\n",
      "          8 :           None :                  0 :           None :  True :  True :  Reals\n",
      "    p_in : Size=81, Index=buses*buses\n",
      "        Key    : Lower : Value                   : Upper : Fixed : Stale : Domain\n",
      "        (0, 0) :     0 :                       0 :  None :  True :  True : NonNegativeReals\n",
      "        (0, 1) :     0 :                       0 :  None :  True :  True : NonNegativeReals\n",
      "        (0, 2) :     0 :                       0 :  None :  True :  True : NonNegativeReals\n",
      "        (0, 3) :     0 : -7.3007940335299986e-09 :  None : False : False : NonNegativeReals\n",
      "        (0, 4) :     0 :                       0 :  None :  True :  True : NonNegativeReals\n",
      "        (0, 5) :     0 :                       0 :  None :  True :  True : NonNegativeReals\n",
      "        (0, 6) :     0 :                       0 :  None :  True :  True : NonNegativeReals\n",
      "        (0, 7) :     0 :                       0 :  None :  True :  True : NonNegativeReals\n",
      "        (0, 8) :     0 :                       0 :  None :  True :  True : NonNegativeReals\n",
      "        (1, 0) :     0 :                       0 :  None :  True :  True : NonNegativeReals\n",
      "        (1, 1) :     0 :                       0 :  None :  True :  True : NonNegativeReals\n",
      "        (1, 2) :     0 :                       0 :  None :  True :  True : NonNegativeReals\n",
      "        (1, 3) :     0 :                       0 :  None :  True :  True : NonNegativeReals\n",
      "        (1, 4) :     0 :                       0 :  None :  True :  True : NonNegativeReals\n",
      "        (1, 5) :     0 :                       0 :  None :  True :  True : NonNegativeReals\n",
      "        (1, 6) :     0 :                       0 :  None :  True :  True : NonNegativeReals\n",
      "        (1, 7) :     0 :  1.8057616617810941e-09 :  None : False : False : NonNegativeReals\n",
      "        (1, 8) :     0 :                       0 :  None :  True :  True : NonNegativeReals\n",
      "        (2, 0) :     0 :                       0 :  None :  True :  True : NonNegativeReals\n",
      "        (2, 1) :     0 :                       0 :  None :  True :  True : NonNegativeReals\n",
      "        (2, 2) :     0 :                       0 :  None :  True :  True : NonNegativeReals\n",
      "        (2, 3) :     0 :                       0 :  None :  True :  True : NonNegativeReals\n",
      "        (2, 4) :     0 :                       0 :  None :  True :  True : NonNegativeReals\n",
      "        (2, 5) :     0 :  3.7360955986130923e-10 :  None : False : False : NonNegativeReals\n",
      "        (2, 6) :     0 :                       0 :  None :  True :  True : NonNegativeReals\n",
      "        (2, 7) :     0 :                       0 :  None :  True :  True : NonNegativeReals\n",
      "        (2, 8) :     0 :                       0 :  None :  True :  True : NonNegativeReals\n",
      "        (3, 0) :     0 :      0.8656449818250241 :  None : False : False : NonNegativeReals\n",
      "        (3, 1) :     0 :                       0 :  None :  True :  True : NonNegativeReals\n",
      "        (3, 2) :     0 :                       0 :  None :  True :  True : NonNegativeReals\n",
      "        (3, 3) :     0 :                       0 :  None :  True :  True : NonNegativeReals\n",
      "        (3, 4) :     0 : -1.6915955018540712e-09 :  None : False : False : NonNegativeReals\n",
      "        (3, 5) :     0 :                       0 :  None :  True :  True : NonNegativeReals\n",
      "        (3, 6) :     0 :                       0 :  None :  True :  True : NonNegativeReals\n",
      "        (3, 7) :     0 :                       0 :  None :  True :  True : NonNegativeReals\n",
      "        (3, 8) :     0 :   6.611367948592874e-10 :  None : False : False : NonNegativeReals\n",
      "        (4, 0) :     0 :                       0 :  None :  True :  True : NonNegativeReals\n",
      "        (4, 1) :     0 :                       0 :  None :  True :  True : NonNegativeReals\n",
      "        (4, 2) :     0 :                       0 :  None :  True :  True : NonNegativeReals\n",
      "        (4, 3) :     0 :     0.33737748647980653 :  None : False : False : NonNegativeReals\n",
      "        (4, 4) :     0 :                       0 :  None :  True :  True : NonNegativeReals\n",
      "        (4, 5) :     0 :      0.5626225289170707 :  None : False : False : NonNegativeReals\n",
      "        (4, 6) :     0 :                       0 :  None :  True :  True : NonNegativeReals\n",
      "        (4, 7) :     0 :                       0 :  None :  True :  True : NonNegativeReals\n",
      "        (4, 8) :     0 :                       0 :  None :  True :  True : NonNegativeReals\n",
      "        (5, 0) :     0 :                       0 :  None :  True :  True : NonNegativeReals\n",
      "        (5, 1) :     0 :                       0 :  None :  True :  True : NonNegativeReals\n",
      "        (5, 2) :     0 :      0.9405791644606643 :  None : False : False : NonNegativeReals\n",
      "        (5, 3) :     0 :                       0 :  None :  True :  True : NonNegativeReals\n",
      "        (5, 4) :     0 :     8.3549747086021e-09 :  None : False : False : NonNegativeReals\n",
      "        (5, 5) :     0 :                       0 :  None :  True :  True : NonNegativeReals\n",
      "        (5, 6) :     0 :   1.640642923363382e-08 :  None : False : False : NonNegativeReals\n",
      "        (5, 7) :     0 :                       0 :  None :  True :  True : NonNegativeReals\n",
      "        (5, 8) :     0 :                       0 :  None :  True :  True : NonNegativeReals\n",
      "        (6, 0) :     0 :                       0 :  None :  True :  True : NonNegativeReals\n",
      "        (6, 1) :     0 :                       0 :  None :  True :  True : NonNegativeReals\n",
      "        (6, 2) :     0 :                       0 :  None :  True :  True : NonNegativeReals\n",
      "        (6, 3) :     0 :                       0 :  None :  True :  True : NonNegativeReals\n",
      "        (6, 4) :     0 :                       0 :  None :  True :  True : NonNegativeReals\n",
      "        (6, 5) :     0 :     0.37795664867484235 :  None : False : False : NonNegativeReals\n",
      "        (6, 6) :     0 :                       0 :  None :  True :  True : NonNegativeReals\n",
      "        (6, 7) :     0 :       0.622043363042089 :  None : False : False : NonNegativeReals\n",
      "        (6, 8) :     0 :                       0 :  None :  True :  True : NonNegativeReals\n",
      "        (7, 0) :     0 :                       0 :  None :  True :  True : NonNegativeReals\n",
      "        (7, 1) :     0 :      1.3437758540110203 :  None : False : False : NonNegativeReals\n",
      "        (7, 2) :     0 :                       0 :  None :  True :  True : NonNegativeReals\n",
      "        (7, 3) :     0 :                       0 :  None :  True :  True : NonNegativeReals\n",
      "        (7, 4) :     0 :                       0 :  None :  True :  True : NonNegativeReals\n",
      "        (7, 5) :     0 :                       0 :  None :  True :  True : NonNegativeReals\n",
      "        (7, 6) :     0 :  3.4058229945877145e-09 :  None : False : False : NonNegativeReals\n",
      "        (7, 7) :     0 :                       0 :  None :  True :  True : NonNegativeReals\n",
      "        (7, 8) :     0 :  3.3352268238448477e-09 :  None : False : False : NonNegativeReals\n",
      "        (8, 0) :     0 :                       0 :  None :  True :  True : NonNegativeReals\n",
      "        (8, 1) :     0 :                       0 :  None :  True :  True : NonNegativeReals\n",
      "        (8, 2) :     0 :                       0 :  None :  True :  True : NonNegativeReals\n",
      "        (8, 3) :     0 :       0.528267509118308 :  None : False : False : NonNegativeReals\n",
      "        (8, 4) :     0 :                       0 :  None :  True :  True : NonNegativeReals\n",
      "        (8, 5) :     0 :                       0 :  None :  True :  True : NonNegativeReals\n",
      "        (8, 6) :     0 :                       0 :  None :  True :  True : NonNegativeReals\n",
      "        (8, 7) :     0 :      0.7217324974278234 :  None : False : False : NonNegativeReals\n",
      "        (8, 8) :     0 :                       0 :  None :  True :  True : NonNegativeReals\n",
      "    p_out : Size=81, Index=buses*buses\n",
      "        Key    : Lower : Value                   : Upper : Fixed : Stale : Domain\n",
      "        (0, 0) :     0 :                       0 :  None :  True :  True : NonNegativeReals\n",
      "        (0, 1) :     0 :                       0 :  None :  True :  True : NonNegativeReals\n",
      "        (0, 2) :     0 :                       0 :  None :  True :  True : NonNegativeReals\n",
      "        (0, 3) :     0 :      0.8656449732430572 :  None : False : False : NonNegativeReals\n",
      "        (0, 4) :     0 :                       0 :  None :  True :  True : NonNegativeReals\n",
      "        (0, 5) :     0 :                       0 :  None :  True :  True : NonNegativeReals\n",
      "        (0, 6) :     0 :                       0 :  None :  True :  True : NonNegativeReals\n",
      "        (0, 7) :     0 :                       0 :  None :  True :  True : NonNegativeReals\n",
      "        (0, 8) :     0 :                       0 :  None :  True :  True : NonNegativeReals\n",
      "        (1, 0) :     0 :                       0 :  None :  True :  True : NonNegativeReals\n",
      "        (1, 1) :     0 :                       0 :  None :  True :  True : NonNegativeReals\n",
      "        (1, 2) :     0 :                       0 :  None :  True :  True : NonNegativeReals\n",
      "        (1, 3) :     0 :                       0 :  None :  True :  True : NonNegativeReals\n",
      "        (1, 4) :     0 :                       0 :  None :  True :  True : NonNegativeReals\n",
      "        (1, 5) :     0 :                       0 :  None :  True :  True : NonNegativeReals\n",
      "        (1, 6) :     0 :                       0 :  None :  True :  True : NonNegativeReals\n",
      "        (1, 7) :     0 :      1.3437758570631555 :  None : False : False : NonNegativeReals\n",
      "        (1, 8) :     0 :                       0 :  None :  True :  True : NonNegativeReals\n",
      "        (2, 0) :     0 :                       0 :  None :  True :  True : NonNegativeReals\n",
      "        (2, 1) :     0 :                       0 :  None :  True :  True : NonNegativeReals\n",
      "        (2, 2) :     0 :                       0 :  None :  True :  True : NonNegativeReals\n",
      "        (2, 3) :     0 :                       0 :  None :  True :  True : NonNegativeReals\n",
      "        (2, 4) :     0 :                       0 :  None :  True :  True : NonNegativeReals\n",
      "        (2, 5) :     0 :      0.9405791644574295 :  None : False : False : NonNegativeReals\n",
      "        (2, 6) :     0 :                       0 :  None :  True :  True : NonNegativeReals\n",
      "        (2, 7) :     0 :                       0 :  None :  True :  True : NonNegativeReals\n",
      "        (2, 8) :     0 :                       0 :  None :  True :  True : NonNegativeReals\n",
      "        (3, 0) :     0 :  1.2715948731952276e-09 :  None : False : False : NonNegativeReals\n",
      "        (3, 1) :     0 :                       0 :  None :  True :  True : NonNegativeReals\n",
      "        (3, 2) :     0 :                       0 :  None :  True :  True : NonNegativeReals\n",
      "        (3, 3) :     0 :                       0 :  None :  True :  True : NonNegativeReals\n",
      "        (3, 4) :     0 :      0.3373774742998109 :  None : False : False : NonNegativeReals\n",
      "        (3, 5) :     0 :                       0 :  None :  True :  True : NonNegativeReals\n",
      "        (3, 6) :     0 :                       0 :  None :  True :  True : NonNegativeReals\n",
      "        (3, 7) :     0 :                       0 :  None :  True :  True : NonNegativeReals\n",
      "        (3, 8) :     0 :      0.5282675052279486 :  None : False : False : NonNegativeReals\n",
      "        (4, 0) :     0 :                       0 :  None :  True :  True : NonNegativeReals\n",
      "        (4, 1) :     0 :                       0 :  None :  True :  True : NonNegativeReals\n",
      "        (4, 2) :     0 :                       0 :  None :  True :  True : NonNegativeReals\n",
      "        (4, 3) :     0 :  1.0478822125420926e-08 :  None : False : False : NonNegativeReals\n",
      "        (4, 4) :     0 :                       0 :  None :  True :  True : NonNegativeReals\n",
      "        (4, 5) :     0 :   4.922843999422567e-09 :  None : False : False : NonNegativeReals\n",
      "        (4, 6) :     0 :                       0 :  None :  True :  True : NonNegativeReals\n",
      "        (4, 7) :     0 :                       0 :  None :  True :  True : NonNegativeReals\n",
      "        (4, 8) :     0 :                       0 :  None :  True :  True : NonNegativeReals\n",
      "        (5, 0) :     0 :                       0 :  None :  True :  True : NonNegativeReals\n",
      "        (5, 1) :     0 :                       0 :  None :  True :  True : NonNegativeReals\n",
      "        (5, 2) :     0 :   3.672665372695621e-10 :  None : False : False : NonNegativeReals\n",
      "        (5, 3) :     0 :                       0 :  None :  True :  True : NonNegativeReals\n",
      "        (5, 4) :     0 :      0.5626225323396236 :  None : False : False : NonNegativeReals\n",
      "        (5, 5) :     0 :                       0 :  None :  True :  True : NonNegativeReals\n",
      "        (5, 6) :     0 :     0.37795665651996707 :  None : False : False : NonNegativeReals\n",
      "        (5, 7) :     0 :                       0 :  None :  True :  True : NonNegativeReals\n",
      "        (5, 8) :     0 :                       0 :  None :  True :  True : NonNegativeReals\n",
      "        (6, 0) :     0 :                       0 :  None :  True :  True : NonNegativeReals\n",
      "        (6, 1) :     0 :                       0 :  None :  True :  True : NonNegativeReals\n",
      "        (6, 2) :     0 :                       0 :  None :  True :  True : NonNegativeReals\n",
      "        (6, 3) :     0 :                       0 :  None :  True :  True : NonNegativeReals\n",
      "        (6, 4) :     0 :                       0 :  None :  True :  True : NonNegativeReals\n",
      "        (6, 5) :     0 :   8.551726553647363e-09 :  None : False : False : NonNegativeReals\n",
      "        (6, 6) :     0 :                       0 :  None :  True :  True : NonNegativeReals\n",
      "        (6, 7) :     0 :  3.1699937201104085e-09 :  None : False : False : NonNegativeReals\n",
      "        (6, 8) :     0 :                       0 :  None :  True :  True : NonNegativeReals\n",
      "        (7, 0) :     0 :                       0 :  None :  True :  True : NonNegativeReals\n",
      "        (7, 1) :     0 : -1.2559515051169468e-09 :  None : False : False : NonNegativeReals\n",
      "        (7, 2) :     0 :                       0 :  None :  True :  True : NonNegativeReals\n",
      "        (7, 3) :     0 :                       0 :  None :  True :  True : NonNegativeReals\n",
      "        (7, 4) :     0 :                       0 :  None :  True :  True : NonNegativeReals\n",
      "        (7, 5) :     0 :                       0 :  None :  True :  True : NonNegativeReals\n",
      "        (7, 6) :     0 :      0.6220433632683402 :  None : False : False : NonNegativeReals\n",
      "        (7, 7) :     0 :                       0 :  None :  True :  True : NonNegativeReals\n",
      "        (7, 8) :     0 :      0.7217324987444703 :  None : False : False : NonNegativeReals\n",
      "        (8, 0) :     0 :                       0 :  None :  True :  True : NonNegativeReals\n",
      "        (8, 1) :     0 :                       0 :  None :  True :  True : NonNegativeReals\n",
      "        (8, 2) :     0 :                       0 :  None :  True :  True : NonNegativeReals\n",
      "        (8, 3) :     0 :   4.541918345307896e-09 :  None : False : False : NonNegativeReals\n",
      "        (8, 4) :     0 :                       0 :  None :  True :  True : NonNegativeReals\n",
      "        (8, 5) :     0 :                       0 :  None :  True :  True : NonNegativeReals\n",
      "        (8, 6) :     0 :                       0 :  None :  True :  True : NonNegativeReals\n",
      "        (8, 7) :     0 :    2.00900195014564e-09 :  None : False : False : NonNegativeReals\n",
      "        (8, 8) :     0 :                       0 :  None :  True :  True : NonNegativeReals\n",
      "    theta : Size=9, Index=buses\n",
      "        Key : Lower                : Value                 : Upper               : Fixed : Stale : Domain\n",
      "          0 : -0.39269908169872414 :                     0 : 0.39269908169872414 :  True :  True :  Reals\n",
      "          1 : -0.39269908169872414 :   0.10542103394735793 : 0.39269908169872414 : False : False :  Reals\n",
      "          2 : -0.39269908169872414 :   0.06986388942254528 : 0.39269908169872414 : False : False :  Reals\n",
      "          3 : -0.39269908169872414 :  -0.04986115087960167 : 0.39269908169872414 : False : False :  Reals\n",
      "          4 : -0.39269908169872414 :  -0.08089987867125165 : 0.39269908169872414 : False : False :  Reals\n",
      "          5 : -0.39269908169872414 :  0.014745950406952795 : 0.39269908169872414 : False : False :  Reals\n",
      "          6 : -0.39269908169872414 : -0.023352078916974547 : 0.39269908169872414 : False : False :  Reals\n",
      "          7 : -0.39269908169872414 :  0.021435042993471504 : 0.39269908169872414 : False : False :  Reals\n",
      "          8 : -0.39269908169872414 :  -0.09476388876818774 : 0.39269908169872414 : False : False :  Reals\n",
      "    w : Size=9, Index=buses\n",
      "        Key : Lower : Value               : Upper : Fixed : Stale : Domain\n",
      "          0 :     0 :                 0.3 :   0.8 :  True :  True :  Reals\n",
      "          1 :     0 :                 0.5 :   0.8 :  True :  True :  Reals\n",
      "          2 :     0 :                 0.8 :   0.8 :  True :  True :  Reals\n",
      "          3 :     0 :  0.2999999998688621 :   0.8 : False : False :  Reals\n",
      "          4 :     0 :  0.6125680631673615 :   0.8 : False : False :  Reals\n",
      "          5 :     0 :  0.7999999951102164 :   0.8 : False : False :  Reals\n",
      "          6 :     0 :  0.6133869914726457 :   0.8 : False : False :  Reals\n",
      "          7 :     0 :  0.5000000000753434 :   0.8 : False : False :  Reals\n",
      "          8 :     0 : 0.41547719897179586 :   0.8 : False : False :  Reals\n",
      "\n",
      "1 Objective Declarations\n",
      "    obj_cost : Size=1, Index=None, Active=True\n",
      "        Key  : Active : Sense    : Expression\n",
      "        None :   True : minimize : (100*PG[0])**2*0.11 + 500.0*PG[0] + 150.0 + (100*PG[1])**2*0.085 + 120.0*PG[1] + 600.0 + (100*PG[2])**2*0.1225 + 100*PG[2] + 335.0 + (100*PG[3])**2*0.0 + 0.0*PG[3] + (100*PG[4])**2*0.0 + 0.0*PG[4] + (100*PG[5])**2*0.0 + 0.0*PG[5] + (100*PG[6])**2*0.0 + 0.0*PG[6] + (100*PG[7])**2*0.0 + 0.0*PG[7] + (100*PG[8])**2*0.0 + 0.0*PG[8]\n",
      "\n",
      "9 Constraint Declarations\n",
      "    backward_branch_flow : Size=9, Index={1, 2, 3, 4, 5, 6, 7, 8, 9}, Active=True\n",
      "        Key : Lower : Body                                                              : Upper : Active\n",
      "          1 :   0.0 : p_in[3,0] - p_out[3,0] - 17.361111111111114*(theta[0] - theta[3]) :   0.0 :   True\n",
      "          2 :   0.0 : p_in[4,3] - p_out[4,3] - 10.869565217391305*(theta[3] - theta[4]) :   0.0 :   True\n",
      "          3 :   0.0 :   p_in[5,4] - p_out[5,4] - 5.88235294117647*(theta[4] - theta[5]) :   0.0 :   True\n",
      "          4 :   0.0 : p_in[5,2] - p_out[5,2] - 17.064846416382252*(theta[2] - theta[5]) :   0.0 :   True\n",
      "          5 :   0.0 :  p_in[6,5] - p_out[6,5] - 9.920634920634921*(theta[5] - theta[6]) :   0.0 :   True\n",
      "          6 :   0.0 :  p_in[7,6] - p_out[7,6] - 13.88888888888889*(theta[6] - theta[7]) :   0.0 :   True\n",
      "          7 :   0.0 :               p_in[1,7] - p_out[1,7] - 16.0*(theta[7] - theta[1]) :   0.0 :   True\n",
      "          8 :   0.0 :  p_in[8,7] - p_out[8,7] - 6.211180124223603*(theta[7] - theta[8]) :   0.0 :   True\n",
      "          9 :   0.0 :  p_in[3,8] - p_out[3,8] - 11.76470588235294*(theta[8] - theta[3]) :   0.0 :   True\n",
      "    branch_flow_direction : Size=81, Index=buses*buses, Active=True\n",
      "        Key    : Lower : Body                 : Upper : Active\n",
      "        (0, 0) :  -Inf : p_out[0,0]*p_in[0,0] :   0.0 :   True\n",
      "        (0, 1) :  -Inf : p_out[0,1]*p_in[0,1] :   0.0 :   True\n",
      "        (0, 2) :  -Inf : p_out[0,2]*p_in[0,2] :   0.0 :   True\n",
      "        (0, 3) :  -Inf : p_out[0,3]*p_in[0,3] :   0.0 :   True\n",
      "        (0, 4) :  -Inf : p_out[0,4]*p_in[0,4] :   0.0 :   True\n",
      "        (0, 5) :  -Inf : p_out[0,5]*p_in[0,5] :   0.0 :   True\n",
      "        (0, 6) :  -Inf : p_out[0,6]*p_in[0,6] :   0.0 :   True\n",
      "        (0, 7) :  -Inf : p_out[0,7]*p_in[0,7] :   0.0 :   True\n",
      "        (0, 8) :  -Inf : p_out[0,8]*p_in[0,8] :   0.0 :   True\n",
      "        (1, 0) :  -Inf : p_out[1,0]*p_in[1,0] :   0.0 :   True\n",
      "        (1, 1) :  -Inf : p_out[1,1]*p_in[1,1] :   0.0 :   True\n",
      "        (1, 2) :  -Inf : p_out[1,2]*p_in[1,2] :   0.0 :   True\n",
      "        (1, 3) :  -Inf : p_out[1,3]*p_in[1,3] :   0.0 :   True\n",
      "        (1, 4) :  -Inf : p_out[1,4]*p_in[1,4] :   0.0 :   True\n",
      "        (1, 5) :  -Inf : p_out[1,5]*p_in[1,5] :   0.0 :   True\n",
      "        (1, 6) :  -Inf : p_out[1,6]*p_in[1,6] :   0.0 :   True\n",
      "        (1, 7) :  -Inf : p_out[1,7]*p_in[1,7] :   0.0 :   True\n",
      "        (1, 8) :  -Inf : p_out[1,8]*p_in[1,8] :   0.0 :   True\n",
      "        (2, 0) :  -Inf : p_out[2,0]*p_in[2,0] :   0.0 :   True\n",
      "        (2, 1) :  -Inf : p_out[2,1]*p_in[2,1] :   0.0 :   True\n",
      "        (2, 2) :  -Inf : p_out[2,2]*p_in[2,2] :   0.0 :   True\n",
      "        (2, 3) :  -Inf : p_out[2,3]*p_in[2,3] :   0.0 :   True\n",
      "        (2, 4) :  -Inf : p_out[2,4]*p_in[2,4] :   0.0 :   True\n",
      "        (2, 5) :  -Inf : p_out[2,5]*p_in[2,5] :   0.0 :   True\n",
      "        (2, 6) :  -Inf : p_out[2,6]*p_in[2,6] :   0.0 :   True\n",
      "        (2, 7) :  -Inf : p_out[2,7]*p_in[2,7] :   0.0 :   True\n",
      "        (2, 8) :  -Inf : p_out[2,8]*p_in[2,8] :   0.0 :   True\n",
      "        (3, 0) :  -Inf : p_out[3,0]*p_in[3,0] :   0.0 :   True\n",
      "        (3, 1) :  -Inf : p_out[3,1]*p_in[3,1] :   0.0 :   True\n",
      "        (3, 2) :  -Inf : p_out[3,2]*p_in[3,2] :   0.0 :   True\n",
      "        (3, 3) :  -Inf : p_out[3,3]*p_in[3,3] :   0.0 :   True\n",
      "        (3, 4) :  -Inf : p_out[3,4]*p_in[3,4] :   0.0 :   True\n",
      "        (3, 5) :  -Inf : p_out[3,5]*p_in[3,5] :   0.0 :   True\n",
      "        (3, 6) :  -Inf : p_out[3,6]*p_in[3,6] :   0.0 :   True\n",
      "        (3, 7) :  -Inf : p_out[3,7]*p_in[3,7] :   0.0 :   True\n",
      "        (3, 8) :  -Inf : p_out[3,8]*p_in[3,8] :   0.0 :   True\n",
      "        (4, 0) :  -Inf : p_out[4,0]*p_in[4,0] :   0.0 :   True\n",
      "        (4, 1) :  -Inf : p_out[4,1]*p_in[4,1] :   0.0 :   True\n",
      "        (4, 2) :  -Inf : p_out[4,2]*p_in[4,2] :   0.0 :   True\n",
      "        (4, 3) :  -Inf : p_out[4,3]*p_in[4,3] :   0.0 :   True\n",
      "        (4, 4) :  -Inf : p_out[4,4]*p_in[4,4] :   0.0 :   True\n",
      "        (4, 5) :  -Inf : p_out[4,5]*p_in[4,5] :   0.0 :   True\n",
      "        (4, 6) :  -Inf : p_out[4,6]*p_in[4,6] :   0.0 :   True\n",
      "        (4, 7) :  -Inf : p_out[4,7]*p_in[4,7] :   0.0 :   True\n",
      "        (4, 8) :  -Inf : p_out[4,8]*p_in[4,8] :   0.0 :   True\n",
      "        (5, 0) :  -Inf : p_out[5,0]*p_in[5,0] :   0.0 :   True\n",
      "        (5, 1) :  -Inf : p_out[5,1]*p_in[5,1] :   0.0 :   True\n",
      "        (5, 2) :  -Inf : p_out[5,2]*p_in[5,2] :   0.0 :   True\n",
      "        (5, 3) :  -Inf : p_out[5,3]*p_in[5,3] :   0.0 :   True\n",
      "        (5, 4) :  -Inf : p_out[5,4]*p_in[5,4] :   0.0 :   True\n",
      "        (5, 5) :  -Inf : p_out[5,5]*p_in[5,5] :   0.0 :   True\n",
      "        (5, 6) :  -Inf : p_out[5,6]*p_in[5,6] :   0.0 :   True\n",
      "        (5, 7) :  -Inf : p_out[5,7]*p_in[5,7] :   0.0 :   True\n",
      "        (5, 8) :  -Inf : p_out[5,8]*p_in[5,8] :   0.0 :   True\n",
      "        (6, 0) :  -Inf : p_out[6,0]*p_in[6,0] :   0.0 :   True\n",
      "        (6, 1) :  -Inf : p_out[6,1]*p_in[6,1] :   0.0 :   True\n",
      "        (6, 2) :  -Inf : p_out[6,2]*p_in[6,2] :   0.0 :   True\n",
      "        (6, 3) :  -Inf : p_out[6,3]*p_in[6,3] :   0.0 :   True\n",
      "        (6, 4) :  -Inf : p_out[6,4]*p_in[6,4] :   0.0 :   True\n",
      "        (6, 5) :  -Inf : p_out[6,5]*p_in[6,5] :   0.0 :   True\n",
      "        (6, 6) :  -Inf : p_out[6,6]*p_in[6,6] :   0.0 :   True\n",
      "        (6, 7) :  -Inf : p_out[6,7]*p_in[6,7] :   0.0 :   True\n",
      "        (6, 8) :  -Inf : p_out[6,8]*p_in[6,8] :   0.0 :   True\n",
      "        (7, 0) :  -Inf : p_out[7,0]*p_in[7,0] :   0.0 :   True\n",
      "        (7, 1) :  -Inf : p_out[7,1]*p_in[7,1] :   0.0 :   True\n",
      "        (7, 2) :  -Inf : p_out[7,2]*p_in[7,2] :   0.0 :   True\n",
      "        (7, 3) :  -Inf : p_out[7,3]*p_in[7,3] :   0.0 :   True\n",
      "        (7, 4) :  -Inf : p_out[7,4]*p_in[7,4] :   0.0 :   True\n",
      "        (7, 5) :  -Inf : p_out[7,5]*p_in[7,5] :   0.0 :   True\n",
      "        (7, 6) :  -Inf : p_out[7,6]*p_in[7,6] :   0.0 :   True\n",
      "        (7, 7) :  -Inf : p_out[7,7]*p_in[7,7] :   0.0 :   True\n",
      "        (7, 8) :  -Inf : p_out[7,8]*p_in[7,8] :   0.0 :   True\n",
      "        (8, 0) :  -Inf : p_out[8,0]*p_in[8,0] :   0.0 :   True\n",
      "        (8, 1) :  -Inf : p_out[8,1]*p_in[8,1] :   0.0 :   True\n",
      "        (8, 2) :  -Inf : p_out[8,2]*p_in[8,2] :   0.0 :   True\n",
      "        (8, 3) :  -Inf : p_out[8,3]*p_in[8,3] :   0.0 :   True\n",
      "        (8, 4) :  -Inf : p_out[8,4]*p_in[8,4] :   0.0 :   True\n",
      "        (8, 5) :  -Inf : p_out[8,5]*p_in[8,5] :   0.0 :   True\n",
      "        (8, 6) :  -Inf : p_out[8,6]*p_in[8,6] :   0.0 :   True\n",
      "        (8, 7) :  -Inf : p_out[8,7]*p_in[8,7] :   0.0 :   True\n",
      "        (8, 8) :  -Inf : p_out[8,8]*p_in[8,8] :   0.0 :   True\n",
      "    carbon_cap : Size=9, Index=buses, Active=True\n",
      "        Key : Lower : Body      : Upper : Active\n",
      "          0 :  -Inf :  0.0*w[0] :   0.8 :   True\n",
      "          1 :  -Inf :  0.0*w[1] :   0.8 :   True\n",
      "          2 :  -Inf :  0.0*w[2] :   0.8 :   True\n",
      "          3 :  -Inf :  0.0*w[3] :   0.8 :   True\n",
      "          4 :  -Inf :  0.9*w[4] :   0.8 :   True\n",
      "          5 :  -Inf :  0.0*w[5] :   0.8 :   True\n",
      "          6 :  -Inf :      w[6] :   0.8 :   True\n",
      "          7 :  -Inf :  0.0*w[7] :   0.8 :   True\n",
      "          8 :  -Inf : 1.25*w[8] :   0.8 :   True\n",
      "    carbon_emission_flow : Size=9, Index={1, 2, 3, 4, 5, 6, 7, 8, 9}, Active=True\n",
      "        Key : Lower : Body                                                                                                                                                                                                                                                                                            : Upper : Active\n",
      "          1 :   0.0 : (p_in[0,0] + p_in[0,1] + p_in[0,2] + p_in[0,3] + p_in[0,4] + p_in[0,5] + p_in[0,6] + p_in[0,7] + p_in[0,8] + PG[0])*w[0] - (p_in[0,0]*w[0] + p_in[0,1]*w[1] + p_in[0,2]*w[2] + p_in[0,3]*w[3] + p_in[0,4]*w[4] + p_in[0,5]*w[5] + p_in[0,6]*w[6] + p_in[0,7]*w[7] + p_in[0,8]*w[8] + 0.3*PG[0]) :   0.0 :   True\n",
      "          2 :   0.0 : (p_in[1,0] + p_in[1,1] + p_in[1,2] + p_in[1,3] + p_in[1,4] + p_in[1,5] + p_in[1,6] + p_in[1,7] + p_in[1,8] + PG[1])*w[1] - (p_in[1,0]*w[0] + p_in[1,1]*w[1] + p_in[1,2]*w[2] + p_in[1,3]*w[3] + p_in[1,4]*w[4] + p_in[1,5]*w[5] + p_in[1,6]*w[6] + p_in[1,7]*w[7] + p_in[1,8]*w[8] + 0.5*PG[1]) :   0.0 :   True\n",
      "          3 :   0.0 : (p_in[2,0] + p_in[2,1] + p_in[2,2] + p_in[2,3] + p_in[2,4] + p_in[2,5] + p_in[2,6] + p_in[2,7] + p_in[2,8] + PG[2])*w[2] - (p_in[2,0]*w[0] + p_in[2,1]*w[1] + p_in[2,2]*w[2] + p_in[2,3]*w[3] + p_in[2,4]*w[4] + p_in[2,5]*w[5] + p_in[2,6]*w[6] + p_in[2,7]*w[7] + p_in[2,8]*w[8] + 0.8*PG[2]) :   0.0 :   True\n",
      "          4 :   0.0 : (p_in[3,0] + p_in[3,1] + p_in[3,2] + p_in[3,3] + p_in[3,4] + p_in[3,5] + p_in[3,6] + p_in[3,7] + p_in[3,8] + PG[3])*w[3] - (p_in[3,0]*w[0] + p_in[3,1]*w[1] + p_in[3,2]*w[2] + p_in[3,3]*w[3] + p_in[3,4]*w[4] + p_in[3,5]*w[5] + p_in[3,6]*w[6] + p_in[3,7]*w[7] + p_in[3,8]*w[8] + 0.0*PG[3]) :   0.0 :   True\n",
      "          5 :   0.0 : (p_in[4,0] + p_in[4,1] + p_in[4,2] + p_in[4,3] + p_in[4,4] + p_in[4,5] + p_in[4,6] + p_in[4,7] + p_in[4,8] + PG[4])*w[4] - (p_in[4,0]*w[0] + p_in[4,1]*w[1] + p_in[4,2]*w[2] + p_in[4,3]*w[3] + p_in[4,4]*w[4] + p_in[4,5]*w[5] + p_in[4,6]*w[6] + p_in[4,7]*w[7] + p_in[4,8]*w[8] + 0.0*PG[4]) :   0.0 :   True\n",
      "          6 :   0.0 : (p_in[5,0] + p_in[5,1] + p_in[5,2] + p_in[5,3] + p_in[5,4] + p_in[5,5] + p_in[5,6] + p_in[5,7] + p_in[5,8] + PG[5])*w[5] - (p_in[5,0]*w[0] + p_in[5,1]*w[1] + p_in[5,2]*w[2] + p_in[5,3]*w[3] + p_in[5,4]*w[4] + p_in[5,5]*w[5] + p_in[5,6]*w[6] + p_in[5,7]*w[7] + p_in[5,8]*w[8] + 0.0*PG[5]) :   0.0 :   True\n",
      "          7 :   0.0 : (p_in[6,0] + p_in[6,1] + p_in[6,2] + p_in[6,3] + p_in[6,4] + p_in[6,5] + p_in[6,6] + p_in[6,7] + p_in[6,8] + PG[6])*w[6] - (p_in[6,0]*w[0] + p_in[6,1]*w[1] + p_in[6,2]*w[2] + p_in[6,3]*w[3] + p_in[6,4]*w[4] + p_in[6,5]*w[5] + p_in[6,6]*w[6] + p_in[6,7]*w[7] + p_in[6,8]*w[8] + 0.0*PG[6]) :   0.0 :   True\n",
      "          8 :   0.0 : (p_in[7,0] + p_in[7,1] + p_in[7,2] + p_in[7,3] + p_in[7,4] + p_in[7,5] + p_in[7,6] + p_in[7,7] + p_in[7,8] + PG[7])*w[7] - (p_in[7,0]*w[0] + p_in[7,1]*w[1] + p_in[7,2]*w[2] + p_in[7,3]*w[3] + p_in[7,4]*w[4] + p_in[7,5]*w[5] + p_in[7,6]*w[6] + p_in[7,7]*w[7] + p_in[7,8]*w[8] + 0.0*PG[7]) :   0.0 :   True\n",
      "          9 :   0.0 : (p_in[8,0] + p_in[8,1] + p_in[8,2] + p_in[8,3] + p_in[8,4] + p_in[8,5] + p_in[8,6] + p_in[8,7] + p_in[8,8] + PG[8])*w[8] - (p_in[8,0]*w[0] + p_in[8,1]*w[1] + p_in[8,2]*w[2] + p_in[8,3]*w[3] + p_in[8,4]*w[4] + p_in[8,5]*w[5] + p_in[8,6]*w[6] + p_in[8,7]*w[7] + p_in[8,8]*w[8] + 0.0*PG[8]) :   0.0 :   True\n",
      "    forward_branch_flow : Size=9, Index={1, 2, 3, 4, 5, 6, 7, 8, 9}, Active=True\n",
      "        Key : Lower : Body                                                              : Upper : Active\n",
      "          1 :   0.0 : p_out[0,3] - p_in[0,3] - 17.361111111111114*(theta[0] - theta[3]) :   0.0 :   True\n",
      "          2 :   0.0 : p_out[3,4] - p_in[3,4] - 10.869565217391305*(theta[3] - theta[4]) :   0.0 :   True\n",
      "          3 :   0.0 :   p_out[4,5] - p_in[4,5] - 5.88235294117647*(theta[4] - theta[5]) :   0.0 :   True\n",
      "          4 :   0.0 : p_out[2,5] - p_in[2,5] - 17.064846416382252*(theta[2] - theta[5]) :   0.0 :   True\n",
      "          5 :   0.0 :  p_out[5,6] - p_in[5,6] - 9.920634920634921*(theta[5] - theta[6]) :   0.0 :   True\n",
      "          6 :   0.0 :  p_out[6,7] - p_in[6,7] - 13.88888888888889*(theta[6] - theta[7]) :   0.0 :   True\n",
      "          7 :   0.0 :               p_out[7,1] - p_in[7,1] - 16.0*(theta[7] - theta[1]) :   0.0 :   True\n",
      "          8 :   0.0 :  p_out[7,8] - p_in[7,8] - 6.211180124223603*(theta[7] - theta[8]) :   0.0 :   True\n",
      "          9 :   0.0 :  p_out[8,3] - p_in[8,3] - 11.76470588235294*(theta[8] - theta[3]) :   0.0 :   True\n",
      "    generator_limits : Size=6, Index={1, 2, 3, 4, 5, 6}, Active=True\n",
      "        Key : Lower : Body                   : Upper : Active\n",
      "          1 :  -Inf : 0.099999999999 - PG[0] :   0.0 :   True\n",
      "          2 :  -Inf : PG[0] - 2.500000000001 :   0.0 :   True\n",
      "          3 :  -Inf : 0.099999999999 - PG[1] :   0.0 :   True\n",
      "          4 :  -Inf : PG[1] - 3.000000000001 :   0.0 :   True\n",
      "          5 :  -Inf : 0.099999999999 - PG[2] :   0.0 :   True\n",
      "          6 :  -Inf : PG[2] - 2.700000000001 :   0.0 :   True\n",
      "    power_balance_constraints : Size=9, Index={1, 2, 3, 4, 5, 6, 7, 8, 9}, Active=True\n",
      "        Key : Lower : Body                                                                                                                                                                                                                                     : Upper : Active\n",
      "          1 :   0.0 : PG[0] - (p_out[0,0] - p_in[0,0] + p_out[0,1] - p_in[0,1] + p_out[0,2] - p_in[0,2] + p_out[0,3] - p_in[0,3] + p_out[0,4] - p_in[0,4] + p_out[0,5] - p_in[0,5] + p_out[0,6] - p_in[0,6] + p_out[0,7] - p_in[0,7] + p_out[0,8] - p_in[0,8]) :   0.0 :   True\n",
      "          2 :   0.0 : PG[1] - (p_out[1,0] - p_in[1,0] + p_out[1,1] - p_in[1,1] + p_out[1,2] - p_in[1,2] + p_out[1,3] - p_in[1,3] + p_out[1,4] - p_in[1,4] + p_out[1,5] - p_in[1,5] + p_out[1,6] - p_in[1,6] + p_out[1,7] - p_in[1,7] + p_out[1,8] - p_in[1,8]) :   0.0 :   True\n",
      "          3 :   0.0 : PG[2] - (p_out[2,0] - p_in[2,0] + p_out[2,1] - p_in[2,1] + p_out[2,2] - p_in[2,2] + p_out[2,3] - p_in[2,3] + p_out[2,4] - p_in[2,4] + p_out[2,5] - p_in[2,5] + p_out[2,6] - p_in[2,6] + p_out[2,7] - p_in[2,7] + p_out[2,8] - p_in[2,8]) :   0.0 :   True\n",
      "          4 :   0.0 :           p_out[3,0] - p_in[3,0] + p_out[3,1] - p_in[3,1] + p_out[3,2] - p_in[3,2] + p_out[3,3] - p_in[3,3] + p_out[3,4] - p_in[3,4] + p_out[3,5] - p_in[3,5] + p_out[3,6] - p_in[3,6] + p_out[3,7] - p_in[3,7] + p_out[3,8] - p_in[3,8] :   0.0 :   True\n",
      "          5 :  -0.9 :           p_out[4,0] - p_in[4,0] + p_out[4,1] - p_in[4,1] + p_out[4,2] - p_in[4,2] + p_out[4,3] - p_in[4,3] + p_out[4,4] - p_in[4,4] + p_out[4,5] - p_in[4,5] + p_out[4,6] - p_in[4,6] + p_out[4,7] - p_in[4,7] + p_out[4,8] - p_in[4,8] :  -0.9 :   True\n",
      "          6 :   0.0 :           p_out[5,0] - p_in[5,0] + p_out[5,1] - p_in[5,1] + p_out[5,2] - p_in[5,2] + p_out[5,3] - p_in[5,3] + p_out[5,4] - p_in[5,4] + p_out[5,5] - p_in[5,5] + p_out[5,6] - p_in[5,6] + p_out[5,7] - p_in[5,7] + p_out[5,8] - p_in[5,8] :   0.0 :   True\n",
      "          7 :  -1.0 :           p_out[6,0] - p_in[6,0] + p_out[6,1] - p_in[6,1] + p_out[6,2] - p_in[6,2] + p_out[6,3] - p_in[6,3] + p_out[6,4] - p_in[6,4] + p_out[6,5] - p_in[6,5] + p_out[6,6] - p_in[6,6] + p_out[6,7] - p_in[6,7] + p_out[6,8] - p_in[6,8] :  -1.0 :   True\n",
      "          8 :   0.0 :           p_out[7,0] - p_in[7,0] + p_out[7,1] - p_in[7,1] + p_out[7,2] - p_in[7,2] + p_out[7,3] - p_in[7,3] + p_out[7,4] - p_in[7,4] + p_out[7,5] - p_in[7,5] + p_out[7,6] - p_in[7,6] + p_out[7,7] - p_in[7,7] + p_out[7,8] - p_in[7,8] :   0.0 :   True\n",
      "          9 : -1.25 :           p_out[8,0] - p_in[8,0] + p_out[8,1] - p_in[8,1] + p_out[8,2] - p_in[8,2] + p_out[8,3] - p_in[8,3] + p_out[8,4] - p_in[8,4] + p_out[8,5] - p_in[8,5] + p_out[8,6] - p_in[8,6] + p_out[8,7] - p_in[8,7] + p_out[8,8] - p_in[8,8] : -1.25 :   True\n",
      "    power_branch_flow : Size=9, Index={1, 2, 3, 4, 5, 6, 7, 8, 9}, Active=True\n",
      "        Key : Lower : Body                                          : Upper              : Active\n",
      "          1 :  -Inf : abs(17.361111111111114*(theta[0] - theta[3])) :  2.500000000000015 :   True\n",
      "          2 :  -Inf : abs(10.869565217391305*(theta[3] - theta[4])) :  2.500000000000015 :   True\n",
      "          3 :  -Inf :   abs(5.88235294117647*(theta[4] - theta[5])) :  1.499999999999985 :   True\n",
      "          4 :  -Inf : abs(17.064846416382252*(theta[2] - theta[5])) : 3.0000000000000298 :   True\n",
      "          5 :  -Inf :  abs(9.920634920634921*(theta[5] - theta[6])) :  1.499999999999985 :   True\n",
      "          6 :  -Inf :  abs(13.88888888888889*(theta[6] - theta[7])) :  2.500000000000015 :   True\n",
      "          7 :  -Inf :               abs(16.0*(theta[7] - theta[1])) :  2.500000000000015 :   True\n",
      "          8 :  -Inf :  abs(6.211180124223603*(theta[7] - theta[8])) :  2.500000000000015 :   True\n",
      "          9 :  -Inf :  abs(11.76470588235294*(theta[8] - theta[3])) :  2.500000000000015 :   True\n",
      "    power_supply_demand_balance : Size=1, Index=None, Active=True\n",
      "        Key  : Lower : Body                                                                                     : Upper : Active\n",
      "        None :   0.0 : PG[0] + PG[1] + PG[2] + PG[3] + PG[4] - 0.9 + PG[5] + PG[6] - 1.0 + PG[7] + PG[8] - 1.25 :   0.0 :   True\n",
      "\n",
      "1 Suffix Declarations\n",
      "    dual : Direction=IMPORT, Datatype=FLOAT\n",
      "        Key                          : Value\n",
      "             backward_branch_flow[1] :      -78.10985097104285\n",
      "             backward_branch_flow[2] :       -78.1098485990613\n",
      "             backward_branch_flow[3] :      -78.10984524312632\n",
      "             backward_branch_flow[4] :      -78.10984611883568\n",
      "             backward_branch_flow[5] :       -78.1098456378585\n",
      "             backward_branch_flow[6] :      -78.10984736141529\n",
      "             backward_branch_flow[7] :      -78.10984807355614\n",
      "             backward_branch_flow[8] :      -78.10984833088699\n",
      "             backward_branch_flow[9] :      -78.10984882317226\n",
      "          branch_flow_direction[0,0] :     -63.724566326084094\n",
      "          branch_flow_direction[0,1] :     -63.724566326084094\n",
      "          branch_flow_direction[0,2] :     -63.724566326084094\n",
      "          branch_flow_direction[0,3] :      -25.62587327081852\n",
      "          branch_flow_direction[0,4] :     -63.724566326084094\n",
      "          branch_flow_direction[0,5] :     -63.724566326084094\n",
      "          branch_flow_direction[0,6] :     -63.724566326084094\n",
      "          branch_flow_direction[0,7] :     -63.724566326084094\n",
      "          branch_flow_direction[0,8] :     -63.724566326084094\n",
      "          branch_flow_direction[1,0] :     -63.724566326084094\n",
      "          branch_flow_direction[1,1] :     -63.724566326084094\n",
      "          branch_flow_direction[1,2] :     -63.724566326084094\n",
      "          branch_flow_direction[1,3] :     -63.724566326084094\n",
      "          branch_flow_direction[1,4] :     -63.724566326084094\n",
      "          branch_flow_direction[1,5] :     -63.724566326084094\n",
      "          branch_flow_direction[1,6] :     -63.724566326084094\n",
      "          branch_flow_direction[1,7] :     -31.800464551756313\n",
      "          branch_flow_direction[1,8] :     -63.724566326084094\n",
      "          branch_flow_direction[2,0] :     -63.724566326084094\n",
      "          branch_flow_direction[2,1] :     -63.724566326084094\n",
      "          branch_flow_direction[2,2] :     -63.724566326084094\n",
      "          branch_flow_direction[2,3] :     -63.724566326084094\n",
      "          branch_flow_direction[2,4] :     -63.724566326084094\n",
      "          branch_flow_direction[2,5] :         -66.80243745266\n",
      "          branch_flow_direction[2,6] :     -63.724566326084094\n",
      "          branch_flow_direction[2,7] :     -63.724566326084094\n",
      "          branch_flow_direction[2,8] :     -63.724566326084094\n",
      "          branch_flow_direction[3,0] :      -68.37448861835165\n",
      "          branch_flow_direction[3,1] :     -63.724566326084094\n",
      "          branch_flow_direction[3,2] :     -63.724566326084094\n",
      "          branch_flow_direction[3,3] :     -63.724566326084094\n",
      "          branch_flow_direction[3,4] :      -49.76845876232688\n",
      "          branch_flow_direction[3,5] :     -63.724566326084094\n",
      "          branch_flow_direction[3,6] :     -63.724566326084094\n",
      "          branch_flow_direction[3,7] :     -63.724566326084094\n",
      "          branch_flow_direction[3,8] :     -57.948594585567164\n",
      "          branch_flow_direction[4,0] :     -63.724566326084094\n",
      "          branch_flow_direction[4,1] :     -63.724566326084094\n",
      "          branch_flow_direction[4,2] :     -63.724566326084094\n",
      "          branch_flow_direction[4,3] :      -94.14917424265259\n",
      "          branch_flow_direction[4,4] :     -63.724566326084094\n",
      "          branch_flow_direction[4,5] :      -79.50878274921318\n",
      "          branch_flow_direction[4,6] :     -63.724566326084094\n",
      "          branch_flow_direction[4,7] :     -63.724566326084094\n",
      "          branch_flow_direction[4,8] :     -63.724566326084094\n",
      "          branch_flow_direction[5,0] :     -63.724566326084094\n",
      "          branch_flow_direction[5,1] :     -63.724566326084094\n",
      "          branch_flow_direction[5,2] :      -66.78737006574366\n",
      "          branch_flow_direction[5,3] :     -63.724566326084094\n",
      "          branch_flow_direction[5,4] :      -71.83930125382932\n",
      "          branch_flow_direction[5,5] :     -63.724566326084094\n",
      "          branch_flow_direction[5,6] :      -87.90080616938629\n",
      "          branch_flow_direction[5,7] :     -63.724566326084094\n",
      "          branch_flow_direction[5,8] :     -63.724566326084094\n",
      "          branch_flow_direction[6,0] :     -63.724566326084094\n",
      "          branch_flow_direction[6,1] :     -63.724566326084094\n",
      "          branch_flow_direction[6,2] :     -63.724566326084094\n",
      "          branch_flow_direction[6,3] :     -63.724566326084094\n",
      "          branch_flow_direction[6,4] :     -63.724566326084094\n",
      "          branch_flow_direction[6,5] :      -92.28241234765929\n",
      "          branch_flow_direction[6,6] :     -63.724566326084094\n",
      "          branch_flow_direction[6,7] :      -79.30543265721532\n",
      "          branch_flow_direction[6,8] :     -63.724566326084094\n",
      "          branch_flow_direction[7,0] :     -63.724566326084094\n",
      "          branch_flow_direction[7,1] :      -55.56791644395007\n",
      "          branch_flow_direction[7,2] :     -63.724566326084094\n",
      "          branch_flow_direction[7,3] :     -63.724566326084094\n",
      "          branch_flow_direction[7,4] :     -63.724566326084094\n",
      "          branch_flow_direction[7,5] :     -63.724566326084094\n",
      "          branch_flow_direction[7,6] :      -78.35926951411865\n",
      "          branch_flow_direction[7,7] :     -63.724566326084094\n",
      "          branch_flow_direction[7,8] :      -70.31068035622047\n",
      "          branch_flow_direction[8,0] :     -63.724566326084094\n",
      "          branch_flow_direction[8,1] :     -63.724566326084094\n",
      "          branch_flow_direction[8,2] :     -63.724566326084094\n",
      "          branch_flow_direction[8,3] :      -82.61886452213668\n",
      "          branch_flow_direction[8,4] :     -63.724566326084094\n",
      "          branch_flow_direction[8,5] :     -63.724566326084094\n",
      "          branch_flow_direction[8,6] :     -63.724566326084094\n",
      "          branch_flow_direction[8,7] :      -74.46565774012419\n",
      "          branch_flow_direction[8,8] :     -63.724566326084094\n",
      "                       carbon_cap[0] :     -8.181752624975e-07\n",
      "                       carbon_cap[1] :     -8.181752624975e-07\n",
      "                       carbon_cap[2] :     -8.181752624975e-07\n",
      "                       carbon_cap[3] :     -8.181752624975e-07\n",
      "                       carbon_cap[4] : -2.6319800089281803e-06\n",
      "                       carbon_cap[5] :     -8.181752624975e-07\n",
      "                       carbon_cap[6] :  -3.507495019595591e-06\n",
      "                       carbon_cap[7] :     -8.181752624975e-07\n",
      "                       carbon_cap[8] : -2.3322124656011063e-06\n",
      "             carbon_emission_flow[1] :      -4507204172.915453\n",
      "             carbon_emission_flow[2] :       16984499.62176946\n",
      "             carbon_emission_flow[3] :       -584002.500052582\n",
      "             carbon_emission_flow[4] :       38.01348709742314\n",
      "             carbon_emission_flow[5] :   5.734921353628677e-06\n",
      "             carbon_emission_flow[6] :       46.67652930321116\n",
      "             carbon_emission_flow[7] :   6.735036475210769e-06\n",
      "             carbon_emission_flow[8] :    0.022828885299370286\n",
      "             carbon_emission_flow[9] :   2.517695194662723e-06\n",
      "              forward_branch_flow[1] :       78.10985055236839\n",
      "              forward_branch_flow[2] :       78.10984805010487\n",
      "              forward_branch_flow[3] :       78.10984560819465\n",
      "              forward_branch_flow[4] :       78.10984576512277\n",
      "              forward_branch_flow[5] :       78.10984478257623\n",
      "              forward_branch_flow[6] :       78.10984753003235\n",
      "              forward_branch_flow[7] :       78.10984869993106\n",
      "              forward_branch_flow[8] :       78.10984737584461\n",
      "              forward_branch_flow[9] :       78.10984891784541\n",
      "                 generator_limits[1] :  -8.548876451681453e-07\n",
      "                 generator_limits[2] : -4.0048504708538133e-07\n",
      "                 generator_limits[3] :  -5.262502125534696e-07\n",
      "                 generator_limits[4] :   -3.95196872367338e-07\n",
      "                 generator_limits[5] :   -7.78677336704558e-07\n",
      "                 generator_limits[6] :  -3.720166971563327e-07\n",
      "        power_balance_constraints[1] :       78.10985152962903\n",
      "        power_balance_constraints[2] :       78.10984891981903\n",
      "        power_balance_constraints[3] :       78.10984643280233\n",
      "        power_balance_constraints[4] :      -78.10985008799435\n",
      "        power_balance_constraints[5] :      -78.10984586955614\n",
      "        power_balance_constraints[6] :      -78.10984567980356\n",
      "        power_balance_constraints[7] :       -78.1098459741257\n",
      "        power_balance_constraints[8] :       -78.1098481442835\n",
      "        power_balance_constraints[9] :      -78.10984779758171\n",
      "                power_branch_flow[1] :   -4.00485047087947e-07\n",
      "                power_branch_flow[2] : -3.0265628160396974e-07\n",
      "                power_branch_flow[3] :  -6.982665204261773e-07\n",
      "                power_branch_flow[4] : -3.1782331893907233e-07\n",
      "                power_branch_flow[5] :  -5.833447484403629e-07\n",
      "                power_branch_flow[6] :  -3.485347530195529e-07\n",
      "                power_branch_flow[7] :  -5.660994672611843e-07\n",
      "                power_branch_flow[8] : -3.6807387194647896e-07\n",
      "                power_branch_flow[9] : -3.3195808349980407e-07\n",
      "         power_supply_demand_balance :      2326.3091047475027\n",
      "\n",
      "27 Declarations: buses lines cost_dims PD PG_MAX PG_MIN B C PL_MAX Emis_cap w_g PG theta w p_out p_in branch_flow_direction forward_branch_flow backward_branch_flow power_branch_flow power_balance_constraints power_supply_demand_balance generator_limits carbon_emission_flow carbon_cap obj_cost dual\n"
     ]
    }
   ],
   "execution_count": 29
  },
  {
   "metadata": {
    "ExecuteTime": {
     "end_time": "2025-03-13T03:41:17.624784Z",
     "start_time": "2025-03-13T03:41:17.621277Z"
    }
   },
   "cell_type": "code",
   "source": "print(model.obj_cost())",
   "id": "799a76e1b43eecb1",
   "outputs": [
    {
     "name": "stdout",
     "output_type": "stream",
     "text": [
      "5223.394300827324\n"
     ]
    }
   ],
   "execution_count": 30
  },
  {
   "metadata": {
    "ExecuteTime": {
     "end_time": "2025-03-13T03:41:17.631342Z",
     "start_time": "2025-03-13T03:41:17.624784Z"
    }
   },
   "cell_type": "code",
   "source": [
    "for lam in model.power_supply_demand_balance:\n",
    "    print(model.dual[model.power_supply_demand_balance[lam]])"
   ],
   "id": "b7eebb7bd2d9671d",
   "outputs": [
    {
     "name": "stdout",
     "output_type": "stream",
     "text": [
      "2305.599476465665\n"
     ]
    }
   ],
   "execution_count": 31
  },
  {
   "metadata": {
    "ExecuteTime": {
     "end_time": "2025-03-13T03:41:17.642636Z",
     "start_time": "2025-03-13T03:41:17.631342Z"
    }
   },
   "cell_type": "code",
   "source": [
    "M = len(branch)\n",
    "N = len(bus)\n",
    "A = np.zeros((M, N))\n",
    "H = np.zeros((M, M))\n",
    "for i in range(M):\n",
    "    fbus = branch[i, F_BUS].astype(int)\n",
    "    tbus = branch[i, T_BUS].astype(int)\n",
    "    \n",
    "    H[i, i] = - Bbus[fbus, tbus]\n",
    "    A[i, fbus] = 1\n",
    "    A[i, tbus] = -1\n",
    "\n",
    "B_dash = np.delete(Bbus.toarray(), 0, axis=0)\n",
    "B_dash = np.delete(B_dash, 0, axis=1)\n",
    "B_dash_inv = np.linalg.inv(B_dash)\n",
    "T = H @ A @ np.pad(B_dash_inv, ((1, 0), (1, 0)), mode='constant', constant_values=0)"
   ],
   "id": "82618107fe40204d",
   "outputs": [],
   "execution_count": 32
  },
  {
   "metadata": {
    "ExecuteTime": {
     "end_time": "2025-03-13T03:41:17.649252Z",
     "start_time": "2025-03-13T03:41:17.642636Z"
    }
   },
   "cell_type": "code",
   "source": [
    "for l in model.lines:\n",
    "    fbus = branch[l, F_BUS]  # i\n",
    "    tbus = branch[l, T_BUS]  # j\n",
    "    B_ft = -model.B[fbus, tbus]\n",
    "    \n",
    "    pf_ij = B_ft * (model.theta[fbus].value - model.theta[tbus].value)\n",
    "    print(\"fbus:{}, tbus:{}, pf:{}\".format(fbus, tbus, np.round(pf_ij, 2)))"
   ],
   "id": "b5d1624522f09146",
   "outputs": [
    {
     "name": "stdout",
     "output_type": "stream",
     "text": [
      "fbus:0.0, tbus:3.0, pf:0.86\n",
      "fbus:3.0, tbus:4.0, pf:0.35\n",
      "fbus:4.0, tbus:5.0, pf:-0.55\n",
      "fbus:2.0, tbus:5.0, pf:0.88\n",
      "fbus:5.0, tbus:6.0, pf:0.33\n",
      "fbus:6.0, tbus:7.0, pf:-0.67\n",
      "fbus:7.0, tbus:1.0, pf:-1.41\n",
      "fbus:7.0, tbus:8.0, pf:0.74\n",
      "fbus:8.0, tbus:3.0, pf:-0.51\n"
     ]
    }
   ],
   "execution_count": 33
  },
  {
   "metadata": {
    "ExecuteTime": {
     "end_time": "2025-03-13T03:41:17.655187Z",
     "start_time": "2025-03-13T03:41:17.649252Z"
    }
   },
   "cell_type": "code",
   "source": [
    "epsilon = []\n",
    "for i in model.carbon_emission_flow:\n",
    "    epsilon.append(model.dual[model.carbon_emission_flow[i]])"
   ],
   "id": "fce709263cc00c44",
   "outputs": [],
   "execution_count": 34
  },
  {
   "metadata": {
    "ExecuteTime": {
     "end_time": "2025-03-13T06:06:15.284107Z",
     "start_time": "2025-03-13T06:06:15.280625Z"
    }
   },
   "cell_type": "code",
   "source": "model.dual[model.carbon_cap[6]]",
   "id": "b0952d2e8237d8b6",
   "outputs": [
    {
     "data": {
      "text/plain": [
       "-1100.7252874240496"
      ]
     },
     "execution_count": 45,
     "metadata": {},
     "output_type": "execute_result"
    }
   ],
   "execution_count": 45
  },
  {
   "metadata": {
    "ExecuteTime": {
     "end_time": "2025-03-13T06:09:54.914873Z",
     "start_time": "2025-03-13T06:09:54.910488Z"
    }
   },
   "cell_type": "code",
   "source": "T",
   "id": "ec1616edd3a2ba6d",
   "outputs": [
    {
     "data": {
      "text/plain": [
       "array([[ 0.00000000e+00, -1.00000000e+00, -1.00000000e+00,\n",
       "        -1.00000000e+00, -1.00000000e+00, -1.00000000e+00,\n",
       "        -1.00000000e+00, -1.00000000e+00, -1.00000000e+00],\n",
       "       [ 0.00000000e+00, -3.61339600e-01, -6.15158637e-01,\n",
       "        -5.82210608e-17, -8.64864865e-01, -6.15158637e-01,\n",
       "        -4.67097532e-01, -3.61339600e-01, -1.24853114e-01],\n",
       "       [ 0.00000000e+00, -3.61339600e-01, -6.15158637e-01,\n",
       "        -1.05162937e-16,  1.35135135e-01, -6.15158637e-01,\n",
       "        -4.67097532e-01, -3.61339600e-01, -1.24853114e-01],\n",
       "       [ 0.00000000e+00,  2.13887328e-16,  1.00000000e+00,\n",
       "         1.08439613e-17,  8.86097128e-17,  1.97797137e-16,\n",
       "        -2.60991512e-18,  2.13887328e-16,  0.00000000e+00],\n",
       "       [ 0.00000000e+00, -3.61339600e-01,  3.84841363e-01,\n",
       "         1.74193111e-16,  1.35135135e-01,  3.84841363e-01,\n",
       "        -4.67097532e-01, -3.61339600e-01, -1.24853114e-01],\n",
       "       [ 0.00000000e+00, -3.61339600e-01,  3.84841363e-01,\n",
       "        -3.78709410e-19,  1.35135135e-01,  3.84841363e-01,\n",
       "         5.32902468e-01, -3.61339600e-01, -1.24853114e-01],\n",
       "       [ 0.00000000e+00, -1.00000000e+00,  0.00000000e+00,\n",
       "         0.00000000e+00,  0.00000000e+00,  0.00000000e+00,\n",
       "         0.00000000e+00,  0.00000000e+00,  0.00000000e+00],\n",
       "       [ 0.00000000e+00,  6.38660400e-01,  3.84841363e-01,\n",
       "         6.87885911e-17,  1.35135135e-01,  3.84841363e-01,\n",
       "         5.32902468e-01,  6.38660400e-01, -1.24853114e-01],\n",
       "       [ 0.00000000e+00,  6.38660400e-01,  3.84841363e-01,\n",
       "        -1.16210309e-16,  1.35135135e-01,  3.84841363e-01,\n",
       "         5.32902468e-01,  6.38660400e-01,  8.75146886e-01]])"
      ]
     },
     "execution_count": 46,
     "metadata": {},
     "output_type": "execute_result"
    }
   ],
   "execution_count": 46
  },
  {
   "metadata": {
    "ExecuteTime": {
     "end_time": "2025-03-13T06:13:30.257532Z",
     "start_time": "2025-03-13T06:13:30.253409Z"
    }
   },
   "cell_type": "code",
   "source": [
    "clmp_6 = model.dual[model.power_supply_demand_balance]\n",
    "p_in_i = np.array([model.p_in[6, i].value for i in model.buses])\n",
    "upper_node_set = np.where(p_in_i>0)[0]\n",
    "\n",
    "con_l = []\n",
    "for l in model.lines:\n",
    "    fbus = branch[l, F_BUS].astype(int) # i\n",
    "    tbus = branch[l, T_BUS].astype(int)\n",
    "    if fbus == 6 or tbus == 6:\n",
    "        con_l.append(l)\n",
    "\n",
    "lmp_carbon_1 = 0\n",
    "lmp_carbon_2 = 0\n",
    "for l in con_l:\n",
    "    fbus = branch[l, F_BUS].astype(int)\n",
    "    tbus = branch[l, T_BUS].astype(int)\n",
    "    \n",
    "    if fbus == 6 and tbus in set(upper_node_set):\n",
    "        lmp_carbon_1 += T[l, 6] * model.w[tbus].value\n",
    "        lmp_carbon_2 += T[l, 6]\n",
    "    elif tbus == 6 and fbus in set(upper_node_set):\n",
    "        lmp_carbon_1 += T[l, 6] * model.w[fbus].value\n",
    "        lmp_carbon_2 += T[l, 6]\n",
    "        \n",
    "clmp_6 -= epsilon[6] * (lmp_carbon_1 - model.w[6].value*lmp_carbon_2)\n",
    "clmp_6 += model.dual[model.carbon_cap[6]] * model.w[6].value\n",
    "\n",
    "mu = []\n",
    "for l in model.power_branch_flow:\n",
    "    mu.append(model.dual[model.power_branch_flow[l]])\n",
    "\n",
    "clmp_6 -= sum(\n",
    "    mu[l] * T[l, 6]\n",
    "    for l in model.lines\n",
    ")"
   ],
   "id": "934b1c97f5fec5e0",
   "outputs": [],
   "execution_count": 47
  },
  {
   "metadata": {
    "ExecuteTime": {
     "end_time": "2025-03-13T03:41:17.671224Z",
     "start_time": "2025-03-13T03:41:17.663208Z"
    }
   },
   "cell_type": "code",
   "source": "clmp_6",
   "id": "5193486d06d8a2f9",
   "outputs": [
    {
     "data": {
      "text/plain": [
       "1483.677160403275"
      ]
     },
     "execution_count": 36,
     "metadata": {},
     "output_type": "execute_result"
    }
   ],
   "execution_count": 36
  },
  {
   "metadata": {
    "ExecuteTime": {
     "end_time": "2025-03-13T05:11:56.521211Z",
     "start_time": "2025-03-13T05:11:56.517579Z"
    }
   },
   "cell_type": "code",
   "source": "model.dual[model.carbon_cap[6]]",
   "id": "bbcdb70c58a2408",
   "outputs": [
    {
     "data": {
      "text/plain": [
       "-1100.7252874240496"
      ]
     },
     "execution_count": 40,
     "metadata": {},
     "output_type": "execute_result"
    }
   ],
   "execution_count": 40
  },
  {
   "metadata": {
    "ExecuteTime": {
     "end_time": "2025-03-13T03:41:17.678242Z",
     "start_time": "2025-03-13T03:41:17.671731Z"
    }
   },
   "cell_type": "code",
   "source": "model.obj_cost()",
   "id": "7076c734e4a9b30b",
   "outputs": [
    {
     "data": {
      "text/plain": [
       "5223.394300827324"
      ]
     },
     "execution_count": 37,
     "metadata": {},
     "output_type": "execute_result"
    }
   ],
   "execution_count": 37
  },
  {
   "metadata": {
    "ExecuteTime": {
     "end_time": "2025-03-13T03:41:17.685285Z",
     "start_time": "2025-03-13T03:41:17.678242Z"
    }
   },
   "cell_type": "code",
   "source": "model.w.display()",
   "id": "d2d531ba48077e29",
   "outputs": [
    {
     "name": "stdout",
     "output_type": "stream",
     "text": [
      "w : Size=9, Index=buses\n",
      "    Key : Lower : Value               : Upper : Fixed : Stale : Domain\n",
      "      0 :     0 :                 0.3 :   0.8 :  True :  True :  Reals\n",
      "      1 :     0 :                 0.5 :   0.8 :  True :  True :  Reals\n",
      "      2 :     0 :                 0.8 :   0.8 :  True :  True :  Reals\n",
      "      3 :     0 :   0.300000004089916 :   0.8 : False : False :  Reals\n",
      "      4 :     0 :  0.6056792274985369 :   0.8 : False : False :  Reals\n",
      "      5 :     0 :  0.7999999914896562 :   0.8 : False : False :  Reals\n",
      "      6 :     0 :  0.6000000094372914 :   0.8 : False : False :  Reals\n",
      "      7 :     0 :  0.5000000002280421 :   0.8 : False : False :  Reals\n",
      "      8 :     0 : 0.41837939533190804 :   0.8 : False : False :  Reals\n"
     ]
    }
   ],
   "execution_count": 38
  },
  {
   "metadata": {
    "ExecuteTime": {
     "end_time": "2025-03-13T05:23:26.051552Z",
     "start_time": "2025-03-13T05:23:26.049359Z"
    }
   },
   "cell_type": "code",
   "source": [
    "for i in range(3):\n",
    "    print(model.w_g[i] * model.PG[i].value)"
   ],
   "id": "ef4923beee895997",
   "outputs": [
    {
     "name": "stdout",
     "output_type": "stream",
     "text": [
      "0.2579718502872841\n",
      "0.7032689147693679\n",
      "0.7068448022303311\n"
     ]
    }
   ],
   "execution_count": 42
  },
  {
   "metadata": {
    "ExecuteTime": {
     "end_time": "2025-03-13T05:24:10.714976Z",
     "start_time": "2025-03-13T05:24:10.712280Z"
    }
   },
   "cell_type": "code",
   "source": "sum(model.w_g[i] * model.PG[i].value for i in model.buses)",
   "id": "a66e6039bd24e7b5",
   "outputs": [
    {
     "data": {
      "text/plain": [
       "1.6680855672869832"
      ]
     },
     "execution_count": 43,
     "metadata": {},
     "output_type": "execute_result"
    }
   ],
   "execution_count": 43
  },
  {
   "metadata": {
    "ExecuteTime": {
     "end_time": "2025-03-13T05:24:30.572320Z",
     "start_time": "2025-03-13T05:24:30.569320Z"
    }
   },
   "cell_type": "code",
   "source": "sum(model.w[i].value * model.PD[i] for i in model.buses)",
   "id": "3965dfab33d10bc0",
   "outputs": [
    {
     "data": {
      "text/plain": [
       "1.6680855583508596"
      ]
     },
     "execution_count": 44,
     "metadata": {},
     "output_type": "execute_result"
    }
   ],
   "execution_count": 44
  },
  {
   "metadata": {
    "ExecuteTime": {
     "end_time": "2025-03-13T03:41:17.692301Z",
     "start_time": "2025-03-13T03:41:17.685285Z"
    }
   },
   "cell_type": "code",
   "source": "model.dual[model.power_supply_demand_balance]",
   "id": "3bd8cd33cd699482",
   "outputs": [
    {
     "data": {
      "text/plain": [
       "2305.599476465665"
      ]
     },
     "execution_count": 39,
     "metadata": {},
     "output_type": "execute_result"
    }
   ],
   "execution_count": 39
  },
  {
   "metadata": {
    "ExecuteTime": {
     "end_time": "2025-03-13T03:37:14.908948Z",
     "start_time": "2025-03-13T03:37:14.903949Z"
    }
   },
   "cell_type": "code",
   "source": "1483.1819847492059, 5223.394297309541",
   "id": "b17ce21b135faaa5",
   "outputs": [
    {
     "data": {
      "text/plain": [
       "(1483.1819847492059, 5223.394297309541)"
      ]
     },
     "execution_count": 39,
     "metadata": {},
     "output_type": "execute_result"
    }
   ],
   "execution_count": 39
  },
  {
   "metadata": {
    "ExecuteTime": {
     "end_time": "2025-03-13T03:37:42.431413Z",
     "start_time": "2025-03-13T03:37:42.428718Z"
    }
   },
   "cell_type": "code",
   "source": "5256.017563293774 - 5223.394297309541",
   "id": "fc2a9048101f2e0f",
   "outputs": [
    {
     "data": {
      "text/plain": [
       "32.62326598423351"
      ]
     },
     "execution_count": 40,
     "metadata": {},
     "output_type": "execute_result"
    }
   ],
   "execution_count": 40
  },
  {
   "metadata": {
    "ExecuteTime": {
     "end_time": "2025-03-13T06:38:46.007867Z",
     "start_time": "2025-03-13T06:38:46.004877Z"
    }
   },
   "cell_type": "code",
   "source": "model.carbon_cap.display()",
   "id": "5a450750c01d8781",
   "outputs": [
    {
     "name": "stdout",
     "output_type": "stream",
     "text": [
      "carbon_cap : Size=9\n",
      "    Key : Lower : Body               : Upper\n",
      "      0 :  None :                0.0 :   0.6\n",
      "      1 :  None :                0.0 :   0.6\n",
      "      2 :  None :                0.0 :   0.6\n",
      "      3 :  None :                0.0 :   0.6\n",
      "      4 :  None : 0.5451113047486832 :   0.6\n",
      "      5 :  None :                0.0 :   0.6\n",
      "      6 :  None : 0.6000000094372914 :   0.6\n",
      "      7 :  None :                0.0 :   0.6\n",
      "      8 :  None :  0.522974244164885 :   0.6\n"
     ]
    }
   ],
   "execution_count": 48
  }
 ],
 "metadata": {
  "kernelspec": {
   "display_name": "Python 3",
   "language": "python",
   "name": "python3"
  },
  "language_info": {
   "codemirror_mode": {
    "name": "ipython",
    "version": 2
   },
   "file_extension": ".py",
   "mimetype": "text/x-python",
   "name": "python",
   "nbconvert_exporter": "python",
   "pygments_lexer": "ipython2",
   "version": "2.7.6"
  }
 },
 "nbformat": 4,
 "nbformat_minor": 5
}
