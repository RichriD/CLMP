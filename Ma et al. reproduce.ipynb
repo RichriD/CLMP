{
 "cells": [
  {
   "cell_type": "code",
   "execution_count": null,
   "id": "initial_id",
   "metadata": {
    "collapsed": true
   },
   "outputs": [],
   "source": [
    "from arbPCEF import *\n",
    "from tqdm import tqdm\n",
    "from pypower.api import case9"
   ]
  },
  {
   "metadata": {},
   "cell_type": "code",
   "outputs": [],
   "execution_count": null,
   "source": [
    "ppc = case9()\n",
    "E_G = np.array([0.4, 0.8, 0]).reshape(-1, 1)\n",
    "sample_size = 10000\n",
    "var_id = [[3], [7]]\n",
    "case = PCEF(ppc, E_G, var_id, sample_size, 1.5)\n",
    "case.generate_sample()"
   ],
   "id": "b556a60a09ce2f15"
  },
  {
   "metadata": {},
   "cell_type": "code",
   "outputs": [],
   "execution_count": null,
   "source": "case.calculate()",
   "id": "c120b312e1f750f"
  }
 ],
 "metadata": {
  "kernelspec": {
   "display_name": "Python 3",
   "language": "python",
   "name": "python3"
  },
  "language_info": {
   "codemirror_mode": {
    "name": "ipython",
    "version": 2
   },
   "file_extension": ".py",
   "mimetype": "text/x-python",
   "name": "python",
   "nbconvert_exporter": "python",
   "pygments_lexer": "ipython2",
   "version": "2.7.6"
  }
 },
 "nbformat": 4,
 "nbformat_minor": 5
}
